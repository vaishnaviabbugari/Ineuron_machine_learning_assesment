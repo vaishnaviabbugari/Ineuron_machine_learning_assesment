{
 "cells": [
  {
   "cell_type": "markdown",
   "id": "00a60af3",
   "metadata": {},
   "source": [
    "# MACHINE LEARNING ASSIGNMENTS"
   ]
  },
  {
   "cell_type": "markdown",
   "id": "bd60802b",
   "metadata": {},
   "source": [
    "## INTERMEDIATE QUESTIONS :"
   ]
  },
  {
   "cell_type": "markdown",
   "id": "43bdca36",
   "metadata": {},
   "source": [
    "### Q-1. Imagine you have a dataset where you have different Instagram features like u sername , Caption , Hashtag , Followers , Time_Since_posted , and likes , now your task is to predict the number of likes and Time Since posted and the rest of the features are your input features. Now you have to build a model which can predict the number of likes and Time Since posted."
   ]
  },
  {
   "cell_type": "code",
   "execution_count": 1,
   "id": "4aacb859",
   "metadata": {},
   "outputs": [],
   "source": [
    "import pandas as pd\n",
    "from sklearn.model_selection import train_test_split\n",
    "from sklearn.linear_model import LinearRegression\n",
    "from sklearn.metrics import mean_squared_error, mean_absolute_error"
   ]
  },
  {
   "cell_type": "code",
   "execution_count": 2,
   "id": "f0972817",
   "metadata": {},
   "outputs": [],
   "source": [
    "df=pd.read_csv(r\"C:\\Users\\user\\Downloads\\archive (1)\\instagram_reach.csv\")"
   ]
  },
  {
   "cell_type": "code",
   "execution_count": 3,
   "id": "5c936880",
   "metadata": {},
   "outputs": [
    {
     "data": {
      "text/html": [
       "<div>\n",
       "<style scoped>\n",
       "    .dataframe tbody tr th:only-of-type {\n",
       "        vertical-align: middle;\n",
       "    }\n",
       "\n",
       "    .dataframe tbody tr th {\n",
       "        vertical-align: top;\n",
       "    }\n",
       "\n",
       "    .dataframe thead th {\n",
       "        text-align: right;\n",
       "    }\n",
       "</style>\n",
       "<table border=\"1\" class=\"dataframe\">\n",
       "  <thead>\n",
       "    <tr style=\"text-align: right;\">\n",
       "      <th></th>\n",
       "      <th>Unnamed: 0</th>\n",
       "      <th>S.No</th>\n",
       "      <th>USERNAME</th>\n",
       "      <th>Caption</th>\n",
       "      <th>Followers</th>\n",
       "      <th>Hashtags</th>\n",
       "      <th>Time since posted</th>\n",
       "      <th>Likes</th>\n",
       "    </tr>\n",
       "  </thead>\n",
       "  <tbody>\n",
       "    <tr>\n",
       "      <th>90</th>\n",
       "      <td>3</td>\n",
       "      <td>13</td>\n",
       "      <td>the_ios_developer</td>\n",
       "      <td>4K Ai</td>\n",
       "      <td>863</td>\n",
       "      <td>#developer #coding #programmer #javascript #pr...</td>\n",
       "      <td>2 hours</td>\n",
       "      <td>32</td>\n",
       "    </tr>\n",
       "  </tbody>\n",
       "</table>\n",
       "</div>"
      ],
      "text/plain": [
       "    Unnamed: 0  S.No           USERNAME Caption  Followers  \\\n",
       "90           3    13  the_ios_developer   4K Ai        863   \n",
       "\n",
       "                                             Hashtags Time since posted  Likes  \n",
       "90  #developer #coding #programmer #javascript #pr...           2 hours     32  "
      ]
     },
     "execution_count": 3,
     "metadata": {},
     "output_type": "execute_result"
    }
   ],
   "source": [
    "df.sample()"
   ]
  },
  {
   "cell_type": "code",
   "execution_count": 4,
   "id": "29898430",
   "metadata": {},
   "outputs": [],
   "source": []
  },
  {
   "cell_type": "code",
   "execution_count": 5,
   "id": "6cd6135b",
   "metadata": {},
   "outputs": [
    {
     "data": {
      "text/plain": [
       "(100, 8)"
      ]
     },
     "execution_count": 5,
     "metadata": {},
     "output_type": "execute_result"
    }
   ],
   "source": [
    "# Step 1: Data Preprocessing\n",
    "df.shape"
   ]
  },
  {
   "cell_type": "code",
   "execution_count": 6,
   "id": "6ae1a223",
   "metadata": {},
   "outputs": [
    {
     "name": "stdout",
     "output_type": "stream",
     "text": [
      "<class 'pandas.core.frame.DataFrame'>\n",
      "RangeIndex: 100 entries, 0 to 99\n",
      "Data columns (total 8 columns):\n",
      " #   Column             Non-Null Count  Dtype \n",
      "---  ------             --------------  ----- \n",
      " 0   Unnamed: 0         100 non-null    int64 \n",
      " 1   S.No               100 non-null    int64 \n",
      " 2   USERNAME           100 non-null    object\n",
      " 3   Caption            94 non-null     object\n",
      " 4   Followers          100 non-null    int64 \n",
      " 5   Hashtags           100 non-null    object\n",
      " 6   Time since posted  100 non-null    object\n",
      " 7   Likes              100 non-null    int64 \n",
      "dtypes: int64(4), object(4)\n",
      "memory usage: 6.4+ KB\n"
     ]
    }
   ],
   "source": [
    "df.info()"
   ]
  },
  {
   "cell_type": "code",
   "execution_count": 7,
   "id": "af1574af",
   "metadata": {},
   "outputs": [],
   "source": [
    "df = df.drop(columns=['Unnamed: 0'])"
   ]
  },
  {
   "cell_type": "code",
   "execution_count": 8,
   "id": "c814bca9",
   "metadata": {},
   "outputs": [
    {
     "data": {
      "text/html": [
       "<div>\n",
       "<style scoped>\n",
       "    .dataframe tbody tr th:only-of-type {\n",
       "        vertical-align: middle;\n",
       "    }\n",
       "\n",
       "    .dataframe tbody tr th {\n",
       "        vertical-align: top;\n",
       "    }\n",
       "\n",
       "    .dataframe thead th {\n",
       "        text-align: right;\n",
       "    }\n",
       "</style>\n",
       "<table border=\"1\" class=\"dataframe\">\n",
       "  <thead>\n",
       "    <tr style=\"text-align: right;\">\n",
       "      <th></th>\n",
       "      <th>S.No</th>\n",
       "      <th>USERNAME</th>\n",
       "      <th>Caption</th>\n",
       "      <th>Followers</th>\n",
       "      <th>Hashtags</th>\n",
       "      <th>Time since posted</th>\n",
       "      <th>Likes</th>\n",
       "    </tr>\n",
       "  </thead>\n",
       "  <tbody>\n",
       "    <tr>\n",
       "      <th>42</th>\n",
       "      <td>11</td>\n",
       "      <td>hollympeck</td>\n",
       "      <td>Still on set. 🙃 Can't tell you what it's for!</td>\n",
       "      <td>273</td>\n",
       "      <td>#artificialintelligence</td>\n",
       "      <td>2 hours</td>\n",
       "      <td>41</td>\n",
       "    </tr>\n",
       "    <tr>\n",
       "      <th>2</th>\n",
       "      <td>3</td>\n",
       "      <td>aitrading_official</td>\n",
       "      <td>Alexander Barinov: 4 years as CFO in multinati...</td>\n",
       "      <td>255</td>\n",
       "      <td>#whoiswho #aitrading #ai #aitradingteam#instat...</td>\n",
       "      <td>2 hours</td>\n",
       "      <td>25</td>\n",
       "    </tr>\n",
       "    <tr>\n",
       "      <th>59</th>\n",
       "      <td>28</td>\n",
       "      <td>mikequindazzi</td>\n",
       "      <td>8.5 billion more #smartphones by 2021 will hel...</td>\n",
       "      <td>4496</td>\n",
       "      <td>#DeepLearning #MachineLearning#ArtificialIntel...</td>\n",
       "      <td>2 hours</td>\n",
       "      <td>11</td>\n",
       "    </tr>\n",
       "    <tr>\n",
       "      <th>75</th>\n",
       "      <td>7</td>\n",
       "      <td>rare.planet</td>\n",
       "      <td>Our most selling hand painted kettle!! Order t...</td>\n",
       "      <td>2573</td>\n",
       "      <td>#rareplanet #shopatrareplanet #India#indiangoo...</td>\n",
       "      <td>2 hours</td>\n",
       "      <td>119</td>\n",
       "    </tr>\n",
       "    <tr>\n",
       "      <th>88</th>\n",
       "      <td>10</td>\n",
       "      <td>brad_0611</td>\n",
       "      <td>Living in Texas is easy, even if your standard...</td>\n",
       "      <td>1158</td>\n",
       "      <td>#frisco#dallas #dfw #texas #newconstruction#ec...</td>\n",
       "      <td>2 hours</td>\n",
       "      <td>29</td>\n",
       "    </tr>\n",
       "  </tbody>\n",
       "</table>\n",
       "</div>"
      ],
      "text/plain": [
       "    S.No            USERNAME  \\\n",
       "42    11          hollympeck   \n",
       "2      3  aitrading_official   \n",
       "59    28       mikequindazzi   \n",
       "75     7         rare.planet   \n",
       "88    10           brad_0611   \n",
       "\n",
       "                                              Caption  Followers  \\\n",
       "42      Still on set. 🙃 Can't tell you what it's for!        273   \n",
       "2   Alexander Barinov: 4 years as CFO in multinati...        255   \n",
       "59  8.5 billion more #smartphones by 2021 will hel...       4496   \n",
       "75  Our most selling hand painted kettle!! Order t...       2573   \n",
       "88  Living in Texas is easy, even if your standard...       1158   \n",
       "\n",
       "                                             Hashtags Time since posted  Likes  \n",
       "42                            #artificialintelligence           2 hours     41  \n",
       "2   #whoiswho #aitrading #ai #aitradingteam#instat...           2 hours     25  \n",
       "59  #DeepLearning #MachineLearning#ArtificialIntel...           2 hours     11  \n",
       "75  #rareplanet #shopatrareplanet #India#indiangoo...           2 hours    119  \n",
       "88  #frisco#dallas #dfw #texas #newconstruction#ec...           2 hours     29  "
      ]
     },
     "execution_count": 8,
     "metadata": {},
     "output_type": "execute_result"
    }
   ],
   "source": [
    "df.sample(5)"
   ]
  },
  {
   "cell_type": "code",
   "execution_count": 9,
   "id": "e68e6db9",
   "metadata": {},
   "outputs": [
    {
     "data": {
      "text/plain": [
       "S.No                 0\n",
       "USERNAME             0\n",
       "Caption              6\n",
       "Followers            0\n",
       "Hashtags             0\n",
       "Time since posted    0\n",
       "Likes                0\n",
       "dtype: int64"
      ]
     },
     "execution_count": 9,
     "metadata": {},
     "output_type": "execute_result"
    }
   ],
   "source": [
    "df.isnull().sum()"
   ]
  },
  {
   "cell_type": "code",
   "execution_count": 10,
   "id": "9b4ab2d7",
   "metadata": {},
   "outputs": [
    {
     "data": {
      "text/plain": [
       "0"
      ]
     },
     "execution_count": 10,
     "metadata": {},
     "output_type": "execute_result"
    }
   ],
   "source": [
    "df.duplicated().sum()"
   ]
  },
  {
   "cell_type": "code",
   "execution_count": 11,
   "id": "85eeacbc",
   "metadata": {},
   "outputs": [],
   "source": [
    "# Step 2: Feature Engineering \n",
    "df['Caption Length'] = df['Caption'].astype(str).apply(len)\n",
    "df['Hashtag Count'] = df['Hashtags'].astype(str).apply(lambda x: len(x.split()))"
   ]
  },
  {
   "cell_type": "code",
   "execution_count": 12,
   "id": "52a96fd3",
   "metadata": {},
   "outputs": [
    {
     "data": {
      "text/html": [
       "<div>\n",
       "<style scoped>\n",
       "    .dataframe tbody tr th:only-of-type {\n",
       "        vertical-align: middle;\n",
       "    }\n",
       "\n",
       "    .dataframe tbody tr th {\n",
       "        vertical-align: top;\n",
       "    }\n",
       "\n",
       "    .dataframe thead th {\n",
       "        text-align: right;\n",
       "    }\n",
       "</style>\n",
       "<table border=\"1\" class=\"dataframe\">\n",
       "  <thead>\n",
       "    <tr style=\"text-align: right;\">\n",
       "      <th></th>\n",
       "      <th>S.No</th>\n",
       "      <th>USERNAME</th>\n",
       "      <th>Caption</th>\n",
       "      <th>Followers</th>\n",
       "      <th>Hashtags</th>\n",
       "      <th>Time since posted</th>\n",
       "      <th>Likes</th>\n",
       "      <th>Caption Length</th>\n",
       "      <th>Hashtag Count</th>\n",
       "    </tr>\n",
       "  </thead>\n",
       "  <tbody>\n",
       "    <tr>\n",
       "      <th>37</th>\n",
       "      <td>22</td>\n",
       "      <td>_linda_smith567</td>\n",
       "      <td>Hello ......You could see the excitement in he...</td>\n",
       "      <td>124</td>\n",
       "      <td>#любовь #gm #sme #smenigeria #profits#business...</td>\n",
       "      <td>2 hours</td>\n",
       "      <td>24</td>\n",
       "      <td>153</td>\n",
       "      <td>21</td>\n",
       "    </tr>\n",
       "  </tbody>\n",
       "</table>\n",
       "</div>"
      ],
      "text/plain": [
       "    S.No         USERNAME                                            Caption  \\\n",
       "37    22  _linda_smith567  Hello ......You could see the excitement in he...   \n",
       "\n",
       "    Followers                                           Hashtags  \\\n",
       "37        124  #любовь #gm #sme #smenigeria #profits#business...   \n",
       "\n",
       "   Time since posted  Likes  Caption Length  Hashtag Count  \n",
       "37           2 hours     24             153             21  "
      ]
     },
     "execution_count": 12,
     "metadata": {},
     "output_type": "execute_result"
    }
   ],
   "source": [
    "df.sample(1)"
   ]
  },
  {
   "cell_type": "code",
   "execution_count": 16,
   "id": "d4506b30",
   "metadata": {},
   "outputs": [],
   "source": [
    "# Convert \"Time since posted\" to numeric representation (hours)\n",
    "from datetime import datetime\n",
    "current_time = datetime.now()\n",
    "\n",
    "def convert_time(time_str):\n",
    "    hours_str = time_str.split()[0]\n",
    "    hours = int(hours_str)\n",
    "    return hours\n",
    "\n",
    "df['Time Since Posted (hours)'] = df['Time since posted'].apply(convert_time)\n",
    "\n",
    "# Calculate the time since posted based on the current time\n",
    "df['Time Since Posted (hours)'] = df['Time Since Posted (hours)'].apply(lambda x: (current_time.hour - x + 24) % 24)"
   ]
  },
  {
   "cell_type": "code",
   "execution_count": null,
   "id": "0d155b21",
   "metadata": {},
   "outputs": [],
   "source": [
    "def extract_time(time_str):\n",
    "    time_value = re.findall(r'\\d+', time_str)\n",
    "    return int(time_value[0]) if time_value else 0\n",
    "\n",
    "df['Time Since Posted (hours)'] = df['Time since posted'].apply(extract_time)"
   ]
  },
  {
   "cell_type": "code",
   "execution_count": 18,
   "id": "7b232c77",
   "metadata": {},
   "outputs": [
    {
     "data": {
      "text/html": [
       "<div>\n",
       "<style scoped>\n",
       "    .dataframe tbody tr th:only-of-type {\n",
       "        vertical-align: middle;\n",
       "    }\n",
       "\n",
       "    .dataframe tbody tr th {\n",
       "        vertical-align: top;\n",
       "    }\n",
       "\n",
       "    .dataframe thead th {\n",
       "        text-align: right;\n",
       "    }\n",
       "</style>\n",
       "<table border=\"1\" class=\"dataframe\">\n",
       "  <thead>\n",
       "    <tr style=\"text-align: right;\">\n",
       "      <th></th>\n",
       "      <th>S.No</th>\n",
       "      <th>USERNAME</th>\n",
       "      <th>Caption</th>\n",
       "      <th>Followers</th>\n",
       "      <th>Hashtags</th>\n",
       "      <th>Time since posted</th>\n",
       "      <th>Likes</th>\n",
       "      <th>Caption Length</th>\n",
       "      <th>Hashtag Count</th>\n",
       "      <th>Time Since Posted (hours)</th>\n",
       "    </tr>\n",
       "  </thead>\n",
       "  <tbody>\n",
       "    <tr>\n",
       "      <th>93</th>\n",
       "      <td>17</td>\n",
       "      <td>benasdzimidas</td>\n",
       "      <td>60% off Lux Light until Monday! Get your copy ...</td>\n",
       "      <td>179</td>\n",
       "      <td>#android #design #development#benasdzimidas #g...</td>\n",
       "      <td>2 hours</td>\n",
       "      <td>20</td>\n",
       "      <td>75</td>\n",
       "      <td>22</td>\n",
       "      <td>7</td>\n",
       "    </tr>\n",
       "  </tbody>\n",
       "</table>\n",
       "</div>"
      ],
      "text/plain": [
       "    S.No       USERNAME                                            Caption  \\\n",
       "93    17  benasdzimidas  60% off Lux Light until Monday! Get your copy ...   \n",
       "\n",
       "    Followers                                           Hashtags  \\\n",
       "93        179  #android #design #development#benasdzimidas #g...   \n",
       "\n",
       "   Time since posted  Likes  Caption Length  Hashtag Count  \\\n",
       "93           2 hours     20              75             22   \n",
       "\n",
       "    Time Since Posted (hours)  \n",
       "93                          7  "
      ]
     },
     "execution_count": 18,
     "metadata": {},
     "output_type": "execute_result"
    }
   ],
   "source": [
    "df.sample(1)"
   ]
  },
  {
   "cell_type": "code",
   "execution_count": 19,
   "id": "7785c02a",
   "metadata": {},
   "outputs": [],
   "source": [
    "# Step 3: Split the Data\n",
    "X = df[['Followers', 'Caption Length', 'Hashtag Count']]\n",
    "y_likes = df['Likes']\n",
    "y_time_since_posted = df['Time Since Posted (hours)']\n",
    "\n",
    "X_train, X_test, y_likes_train, y_likes_test, y_time_train, y_time_test = train_test_split(\n",
    "    X, y_likes, y_time_since_posted, test_size=0.2, random_state=42\n",
    ")"
   ]
  },
  {
   "cell_type": "code",
   "execution_count": 20,
   "id": "621d5afe",
   "metadata": {},
   "outputs": [
    {
     "data": {
      "text/html": [
       "<div>\n",
       "<style scoped>\n",
       "    .dataframe tbody tr th:only-of-type {\n",
       "        vertical-align: middle;\n",
       "    }\n",
       "\n",
       "    .dataframe tbody tr th {\n",
       "        vertical-align: top;\n",
       "    }\n",
       "\n",
       "    .dataframe thead th {\n",
       "        text-align: right;\n",
       "    }\n",
       "</style>\n",
       "<table border=\"1\" class=\"dataframe\">\n",
       "  <thead>\n",
       "    <tr style=\"text-align: right;\">\n",
       "      <th></th>\n",
       "      <th>Followers</th>\n",
       "      <th>Caption Length</th>\n",
       "      <th>Hashtag Count</th>\n",
       "    </tr>\n",
       "  </thead>\n",
       "  <tbody>\n",
       "    <tr>\n",
       "      <th>55</th>\n",
       "      <td>3448</td>\n",
       "      <td>255</td>\n",
       "      <td>10</td>\n",
       "    </tr>\n",
       "    <tr>\n",
       "      <th>88</th>\n",
       "      <td>1158</td>\n",
       "      <td>65</td>\n",
       "      <td>7</td>\n",
       "    </tr>\n",
       "    <tr>\n",
       "      <th>26</th>\n",
       "      <td>265</td>\n",
       "      <td>44</td>\n",
       "      <td>26</td>\n",
       "    </tr>\n",
       "    <tr>\n",
       "      <th>42</th>\n",
       "      <td>273</td>\n",
       "      <td>45</td>\n",
       "      <td>1</td>\n",
       "    </tr>\n",
       "    <tr>\n",
       "      <th>69</th>\n",
       "      <td>1003</td>\n",
       "      <td>369</td>\n",
       "      <td>23</td>\n",
       "    </tr>\n",
       "    <tr>\n",
       "      <th>...</th>\n",
       "      <td>...</td>\n",
       "      <td>...</td>\n",
       "      <td>...</td>\n",
       "    </tr>\n",
       "    <tr>\n",
       "      <th>60</th>\n",
       "      <td>145</td>\n",
       "      <td>137</td>\n",
       "      <td>7</td>\n",
       "    </tr>\n",
       "    <tr>\n",
       "      <th>71</th>\n",
       "      <td>383</td>\n",
       "      <td>12</td>\n",
       "      <td>20</td>\n",
       "    </tr>\n",
       "    <tr>\n",
       "      <th>14</th>\n",
       "      <td>2904</td>\n",
       "      <td>31</td>\n",
       "      <td>14</td>\n",
       "    </tr>\n",
       "    <tr>\n",
       "      <th>92</th>\n",
       "      <td>106</td>\n",
       "      <td>270</td>\n",
       "      <td>4</td>\n",
       "    </tr>\n",
       "    <tr>\n",
       "      <th>51</th>\n",
       "      <td>2277</td>\n",
       "      <td>26</td>\n",
       "      <td>4</td>\n",
       "    </tr>\n",
       "  </tbody>\n",
       "</table>\n",
       "<p>80 rows × 3 columns</p>\n",
       "</div>"
      ],
      "text/plain": [
       "    Followers  Caption Length  Hashtag Count\n",
       "55       3448             255             10\n",
       "88       1158              65              7\n",
       "26        265              44             26\n",
       "42        273              45              1\n",
       "69       1003             369             23\n",
       "..        ...             ...            ...\n",
       "60        145             137              7\n",
       "71        383              12             20\n",
       "14       2904              31             14\n",
       "92        106             270              4\n",
       "51       2277              26              4\n",
       "\n",
       "[80 rows x 3 columns]"
      ]
     },
     "execution_count": 20,
     "metadata": {},
     "output_type": "execute_result"
    }
   ],
   "source": [
    "X_train"
   ]
  },
  {
   "cell_type": "code",
   "execution_count": 21,
   "id": "db77b5b9",
   "metadata": {},
   "outputs": [
    {
     "data": {
      "text/html": [
       "<div>\n",
       "<style scoped>\n",
       "    .dataframe tbody tr th:only-of-type {\n",
       "        vertical-align: middle;\n",
       "    }\n",
       "\n",
       "    .dataframe tbody tr th {\n",
       "        vertical-align: top;\n",
       "    }\n",
       "\n",
       "    .dataframe thead th {\n",
       "        text-align: right;\n",
       "    }\n",
       "</style>\n",
       "<table border=\"1\" class=\"dataframe\">\n",
       "  <thead>\n",
       "    <tr style=\"text-align: right;\">\n",
       "      <th></th>\n",
       "      <th>Followers</th>\n",
       "      <th>Caption Length</th>\n",
       "      <th>Hashtag Count</th>\n",
       "    </tr>\n",
       "  </thead>\n",
       "  <tbody>\n",
       "    <tr>\n",
       "      <th>83</th>\n",
       "      <td>91</td>\n",
       "      <td>353</td>\n",
       "      <td>17</td>\n",
       "    </tr>\n",
       "    <tr>\n",
       "      <th>53</th>\n",
       "      <td>87</td>\n",
       "      <td>28</td>\n",
       "      <td>13</td>\n",
       "    </tr>\n",
       "    <tr>\n",
       "      <th>70</th>\n",
       "      <td>1200</td>\n",
       "      <td>29</td>\n",
       "      <td>8</td>\n",
       "    </tr>\n",
       "    <tr>\n",
       "      <th>45</th>\n",
       "      <td>122</td>\n",
       "      <td>131</td>\n",
       "      <td>7</td>\n",
       "    </tr>\n",
       "    <tr>\n",
       "      <th>44</th>\n",
       "      <td>118</td>\n",
       "      <td>72</td>\n",
       "      <td>7</td>\n",
       "    </tr>\n",
       "  </tbody>\n",
       "</table>\n",
       "</div>"
      ],
      "text/plain": [
       "    Followers  Caption Length  Hashtag Count\n",
       "83         91             353             17\n",
       "53         87              28             13\n",
       "70       1200              29              8\n",
       "45        122             131              7\n",
       "44        118              72              7"
      ]
     },
     "execution_count": 21,
     "metadata": {},
     "output_type": "execute_result"
    }
   ],
   "source": [
    "X_test.head()"
   ]
  },
  {
   "cell_type": "code",
   "execution_count": 22,
   "id": "911e7670",
   "metadata": {},
   "outputs": [
    {
     "data": {
      "text/plain": [
       "55    349\n",
       "88     29\n",
       "26     25\n",
       "42     41\n",
       "69     40\n",
       "     ... \n",
       "60     16\n",
       "71     50\n",
       "14     28\n",
       "92     12\n",
       "51    157\n",
       "Name: Likes, Length: 80, dtype: int64"
      ]
     },
     "execution_count": 22,
     "metadata": {},
     "output_type": "execute_result"
    }
   ],
   "source": [
    "y_likes_train"
   ]
  },
  {
   "cell_type": "code",
   "execution_count": 23,
   "id": "9faf1d77",
   "metadata": {},
   "outputs": [
    {
     "data": {
      "text/plain": [
       "83     14\n",
       "53     24\n",
       "70     21\n",
       "45     31\n",
       "44     16\n",
       "39    136\n",
       "22     20\n",
       "80     28\n",
       "10     31\n",
       "0     139\n",
       "18     30\n",
       "30     90\n",
       "73     10\n",
       "33     30\n",
       "90     32\n",
       "4      30\n",
       "76     11\n",
       "77     55\n",
       "12     80\n",
       "31     19\n",
       "Name: Likes, dtype: int64"
      ]
     },
     "execution_count": 23,
     "metadata": {},
     "output_type": "execute_result"
    }
   ],
   "source": [
    "y_likes_test"
   ]
  },
  {
   "cell_type": "code",
   "execution_count": 24,
   "id": "2a683b32",
   "metadata": {},
   "outputs": [
    {
     "data": {
      "text/plain": [
       "55    9\n",
       "88    7\n",
       "26    7\n",
       "42    7\n",
       "69    7\n",
       "     ..\n",
       "60    7\n",
       "71    7\n",
       "14    6\n",
       "92    7\n",
       "51    5\n",
       "Name: Time Since Posted (hours), Length: 80, dtype: int64"
      ]
     },
     "execution_count": 24,
     "metadata": {},
     "output_type": "execute_result"
    }
   ],
   "source": [
    "y_time_train"
   ]
  },
  {
   "cell_type": "code",
   "execution_count": 25,
   "id": "c1e3b737",
   "metadata": {},
   "outputs": [
    {
     "data": {
      "text/plain": [
       "83     6\n",
       "53     5\n",
       "70     7\n",
       "45     7\n",
       "44     7\n",
       "39    19\n",
       "22     7\n",
       "80     7\n",
       "10     2\n",
       "0     22\n",
       "18     5\n",
       "30     7\n",
       "73     7\n",
       "33     7\n",
       "90     7\n",
       "4      6\n",
       "76     7\n",
       "77     7\n",
       "12     0\n",
       "31     7\n",
       "Name: Time Since Posted (hours), dtype: int64"
      ]
     },
     "execution_count": 25,
     "metadata": {},
     "output_type": "execute_result"
    }
   ],
   "source": [
    "y_time_test"
   ]
  },
  {
   "cell_type": "code",
   "execution_count": 26,
   "id": "c00f993b",
   "metadata": {},
   "outputs": [],
   "source": [
    "# Step 4: Model Selection\n",
    "likes_model = LinearRegression()\n",
    "time_model = LinearRegression()"
   ]
  },
  {
   "cell_type": "code",
   "execution_count": 27,
   "id": "8230e560",
   "metadata": {},
   "outputs": [],
   "source": [
    "# Step 5: Model Training \n",
    "regressor_likes = LinearRegression()\n",
    "regressor_likes.fit(X_train, y_likes_train)\n",
    "y_likes_pred = regressor_likes.predict(X_test)\n",
    "\n",
    "\n",
    "regressor_time = LinearRegression()\n",
    "regressor_time.fit(X_train, y_time_train)\n",
    "y_time_pred = regressor_time.predict(X_test)"
   ]
  },
  {
   "cell_type": "code",
   "execution_count": 29,
   "id": "ab772fa4",
   "metadata": {},
   "outputs": [],
   "source": [
    "# Step :6 Model Evaluation with Model Tuning\n",
    "from sklearn.model_selection import GridSearchCV\n",
    "from sklearn.linear_model import Ridge\n",
    "param_grid = {'alpha': [0.1, 1.0, 10.0]}  # Define the range of alpha values to try\n",
    "ridge_likes = Ridge()\n",
    "grid_search_likes = GridSearchCV(ridge_likes, param_grid)\n",
    "grid_search_likes.fit(X_train, y_likes_train)\n",
    "best_likes_model = grid_search_likes.best_estimator_\n",
    "y_likes_pred = best_likes_model.predict(X_test)\n",
    "\n",
    "ridge_time = Ridge()\n",
    "grid_search_time = GridSearchCV(ridge_time, param_grid)\n",
    "grid_search_time.fit(X_train, y_time_train)\n",
    "best_time_model = grid_search_time.best_estimator_\n",
    "y_time_pred = best_time_model.predict(X_test)"
   ]
  },
  {
   "cell_type": "code",
   "execution_count": 30,
   "id": "1f82bd87",
   "metadata": {},
   "outputs": [
    {
     "name": "stdout",
     "output_type": "stream",
     "text": [
      "Best Likes Model: Ridge(alpha=10.0)\n",
      "Best Time Model: Ridge(alpha=10.0)\n",
      "Likes - Mean Squared Error: 1151.7876953782547\n",
      "Likes - Mean Absolute Error: 25.710474136533016\n",
      "Time Since Posted - Mean Squared Error: 23.710843876797902\n",
      "Time Since Posted - Mean Absolute Error: 2.4265591711852137\n"
     ]
    }
   ],
   "source": [
    "# Step 7: Model tuning\n",
    "likes_mse = mean_squared_error(y_likes_test, y_likes_pred)\n",
    "likes_mae = mean_absolute_error(y_likes_test, y_likes_pred)\n",
    "time_mse = mean_squared_error(y_time_test, y_time_pred)\n",
    "time_mae = mean_absolute_error(y_time_test, y_time_pred)\n",
    "\n",
    "print(\"Best Likes Model:\", best_likes_model)\n",
    "print(\"Best Time Model:\", best_time_model)\n",
    "print(\"Likes - Mean Squared Error:\", likes_mse)\n",
    "print(\"Likes - Mean Absolute Error:\", likes_mae)\n",
    "print(\"Time Since Posted - Mean Squared Error:\", time_mse)\n",
    "print(\"Time Since Posted - Mean Absolute Error:\", time_mae)"
   ]
  },
  {
   "cell_type": "code",
   "execution_count": 31,
   "id": "8da4d9b7",
   "metadata": {},
   "outputs": [
    {
     "name": "stdout",
     "output_type": "stream",
     "text": [
      "Likes prediction: [52.03119712]\n"
     ]
    }
   ],
   "source": [
    "# Step 8: Model Deployment\n",
    "new_data = pd.DataFrame({'Followers': [1000], 'Caption Length': [120], 'Hashtag Count': [5]})\n",
    "likes_prediction = best_likes_model.predict(new_data)\n",
    "\n",
    "print(\"Likes prediction:\", likes_prediction)"
   ]
  },
  {
   "cell_type": "code",
   "execution_count": 32,
   "id": "c662238d",
   "metadata": {},
   "outputs": [
    {
     "name": "stdout",
     "output_type": "stream",
     "text": [
      "Likes prediction: [40.04436681]\n"
     ]
    }
   ],
   "source": [
    "# Step 8: Model Deployment\n",
    "new_data = pd.DataFrame({'Followers': [100], 'Caption Length': [120], 'Hashtag Count': [5]})\n",
    "likes_prediction = best_likes_model.predict(new_data)\n",
    "\n",
    "print(\"Likes prediction:\", likes_prediction)"
   ]
  },
  {
   "cell_type": "markdown",
   "id": "bcb86810",
   "metadata": {},
   "source": [
    "### Q-2. Imagine you have a dataset where you have different features like Age , Gender , Height , Weight , BMI , and Blood Pressure and you have to classify the people into different classes like Normal , Overweight , Obesity , Underweight , and Extreme Obesity by using any 4 different classification algorithms. Now you have to build a model which can classify people into different classes."
   ]
  },
  {
   "cell_type": "code",
   "execution_count": 33,
   "id": "d6f74bc6",
   "metadata": {},
   "outputs": [],
   "source": [
    "from sklearn.model_selection import train_test_split\n",
    "from sklearn.preprocessing import LabelEncoder\n",
    "from sklearn.linear_model import LogisticRegression\n",
    "from sklearn.ensemble import RandomForestClassifier\n",
    "from sklearn.svm import SVC\n",
    "from sklearn.ensemble import GradientBoostingClassifier\n",
    "from sklearn.metrics import accuracy_score, classification_report\n",
    "from sklearn.preprocessing import LabelEncoder, StandardScaler"
   ]
  },
  {
   "cell_type": "code",
   "execution_count": 34,
   "id": "aa9f53b4",
   "metadata": {},
   "outputs": [],
   "source": [
    "df1=pd.read_csv(r\"C:\\Users\\user\\Downloads\\archive (1)\\ObesityDataSet_raw_and_data_sinthetic.csv\")"
   ]
  },
  {
   "cell_type": "code",
   "execution_count": 35,
   "id": "62a4a68e",
   "metadata": {},
   "outputs": [
    {
     "data": {
      "text/html": [
       "<div>\n",
       "<style scoped>\n",
       "    .dataframe tbody tr th:only-of-type {\n",
       "        vertical-align: middle;\n",
       "    }\n",
       "\n",
       "    .dataframe tbody tr th {\n",
       "        vertical-align: top;\n",
       "    }\n",
       "\n",
       "    .dataframe thead th {\n",
       "        text-align: right;\n",
       "    }\n",
       "</style>\n",
       "<table border=\"1\" class=\"dataframe\">\n",
       "  <thead>\n",
       "    <tr style=\"text-align: right;\">\n",
       "      <th></th>\n",
       "      <th>Gender</th>\n",
       "      <th>Age</th>\n",
       "      <th>Height</th>\n",
       "      <th>Weight</th>\n",
       "      <th>family_history_with_overweight</th>\n",
       "      <th>FAVC</th>\n",
       "      <th>FCVC</th>\n",
       "      <th>NCP</th>\n",
       "      <th>CAEC</th>\n",
       "      <th>SMOKE</th>\n",
       "      <th>CH2O</th>\n",
       "      <th>SCC</th>\n",
       "      <th>FAF</th>\n",
       "      <th>TUE</th>\n",
       "      <th>CALC</th>\n",
       "      <th>MTRANS</th>\n",
       "      <th>NObeyesdad</th>\n",
       "    </tr>\n",
       "  </thead>\n",
       "  <tbody>\n",
       "    <tr>\n",
       "      <th>0</th>\n",
       "      <td>Female</td>\n",
       "      <td>21.000000</td>\n",
       "      <td>1.620000</td>\n",
       "      <td>64.000000</td>\n",
       "      <td>yes</td>\n",
       "      <td>no</td>\n",
       "      <td>2.0</td>\n",
       "      <td>3.0</td>\n",
       "      <td>Sometimes</td>\n",
       "      <td>no</td>\n",
       "      <td>2.000000</td>\n",
       "      <td>no</td>\n",
       "      <td>0.000000</td>\n",
       "      <td>1.000000</td>\n",
       "      <td>no</td>\n",
       "      <td>Public_Transportation</td>\n",
       "      <td>Normal_Weight</td>\n",
       "    </tr>\n",
       "    <tr>\n",
       "      <th>1</th>\n",
       "      <td>Female</td>\n",
       "      <td>21.000000</td>\n",
       "      <td>1.520000</td>\n",
       "      <td>56.000000</td>\n",
       "      <td>yes</td>\n",
       "      <td>no</td>\n",
       "      <td>3.0</td>\n",
       "      <td>3.0</td>\n",
       "      <td>Sometimes</td>\n",
       "      <td>yes</td>\n",
       "      <td>3.000000</td>\n",
       "      <td>yes</td>\n",
       "      <td>3.000000</td>\n",
       "      <td>0.000000</td>\n",
       "      <td>Sometimes</td>\n",
       "      <td>Public_Transportation</td>\n",
       "      <td>Normal_Weight</td>\n",
       "    </tr>\n",
       "    <tr>\n",
       "      <th>2</th>\n",
       "      <td>Male</td>\n",
       "      <td>23.000000</td>\n",
       "      <td>1.800000</td>\n",
       "      <td>77.000000</td>\n",
       "      <td>yes</td>\n",
       "      <td>no</td>\n",
       "      <td>2.0</td>\n",
       "      <td>3.0</td>\n",
       "      <td>Sometimes</td>\n",
       "      <td>no</td>\n",
       "      <td>2.000000</td>\n",
       "      <td>no</td>\n",
       "      <td>2.000000</td>\n",
       "      <td>1.000000</td>\n",
       "      <td>Frequently</td>\n",
       "      <td>Public_Transportation</td>\n",
       "      <td>Normal_Weight</td>\n",
       "    </tr>\n",
       "    <tr>\n",
       "      <th>3</th>\n",
       "      <td>Male</td>\n",
       "      <td>27.000000</td>\n",
       "      <td>1.800000</td>\n",
       "      <td>87.000000</td>\n",
       "      <td>no</td>\n",
       "      <td>no</td>\n",
       "      <td>3.0</td>\n",
       "      <td>3.0</td>\n",
       "      <td>Sometimes</td>\n",
       "      <td>no</td>\n",
       "      <td>2.000000</td>\n",
       "      <td>no</td>\n",
       "      <td>2.000000</td>\n",
       "      <td>0.000000</td>\n",
       "      <td>Frequently</td>\n",
       "      <td>Walking</td>\n",
       "      <td>Overweight_Level_I</td>\n",
       "    </tr>\n",
       "    <tr>\n",
       "      <th>4</th>\n",
       "      <td>Male</td>\n",
       "      <td>22.000000</td>\n",
       "      <td>1.780000</td>\n",
       "      <td>89.800000</td>\n",
       "      <td>no</td>\n",
       "      <td>no</td>\n",
       "      <td>2.0</td>\n",
       "      <td>1.0</td>\n",
       "      <td>Sometimes</td>\n",
       "      <td>no</td>\n",
       "      <td>2.000000</td>\n",
       "      <td>no</td>\n",
       "      <td>0.000000</td>\n",
       "      <td>0.000000</td>\n",
       "      <td>Sometimes</td>\n",
       "      <td>Public_Transportation</td>\n",
       "      <td>Overweight_Level_II</td>\n",
       "    </tr>\n",
       "    <tr>\n",
       "      <th>...</th>\n",
       "      <td>...</td>\n",
       "      <td>...</td>\n",
       "      <td>...</td>\n",
       "      <td>...</td>\n",
       "      <td>...</td>\n",
       "      <td>...</td>\n",
       "      <td>...</td>\n",
       "      <td>...</td>\n",
       "      <td>...</td>\n",
       "      <td>...</td>\n",
       "      <td>...</td>\n",
       "      <td>...</td>\n",
       "      <td>...</td>\n",
       "      <td>...</td>\n",
       "      <td>...</td>\n",
       "      <td>...</td>\n",
       "      <td>...</td>\n",
       "    </tr>\n",
       "    <tr>\n",
       "      <th>2106</th>\n",
       "      <td>Female</td>\n",
       "      <td>20.976842</td>\n",
       "      <td>1.710730</td>\n",
       "      <td>131.408528</td>\n",
       "      <td>yes</td>\n",
       "      <td>yes</td>\n",
       "      <td>3.0</td>\n",
       "      <td>3.0</td>\n",
       "      <td>Sometimes</td>\n",
       "      <td>no</td>\n",
       "      <td>1.728139</td>\n",
       "      <td>no</td>\n",
       "      <td>1.676269</td>\n",
       "      <td>0.906247</td>\n",
       "      <td>Sometimes</td>\n",
       "      <td>Public_Transportation</td>\n",
       "      <td>Obesity_Type_III</td>\n",
       "    </tr>\n",
       "    <tr>\n",
       "      <th>2107</th>\n",
       "      <td>Female</td>\n",
       "      <td>21.982942</td>\n",
       "      <td>1.748584</td>\n",
       "      <td>133.742943</td>\n",
       "      <td>yes</td>\n",
       "      <td>yes</td>\n",
       "      <td>3.0</td>\n",
       "      <td>3.0</td>\n",
       "      <td>Sometimes</td>\n",
       "      <td>no</td>\n",
       "      <td>2.005130</td>\n",
       "      <td>no</td>\n",
       "      <td>1.341390</td>\n",
       "      <td>0.599270</td>\n",
       "      <td>Sometimes</td>\n",
       "      <td>Public_Transportation</td>\n",
       "      <td>Obesity_Type_III</td>\n",
       "    </tr>\n",
       "    <tr>\n",
       "      <th>2108</th>\n",
       "      <td>Female</td>\n",
       "      <td>22.524036</td>\n",
       "      <td>1.752206</td>\n",
       "      <td>133.689352</td>\n",
       "      <td>yes</td>\n",
       "      <td>yes</td>\n",
       "      <td>3.0</td>\n",
       "      <td>3.0</td>\n",
       "      <td>Sometimes</td>\n",
       "      <td>no</td>\n",
       "      <td>2.054193</td>\n",
       "      <td>no</td>\n",
       "      <td>1.414209</td>\n",
       "      <td>0.646288</td>\n",
       "      <td>Sometimes</td>\n",
       "      <td>Public_Transportation</td>\n",
       "      <td>Obesity_Type_III</td>\n",
       "    </tr>\n",
       "    <tr>\n",
       "      <th>2109</th>\n",
       "      <td>Female</td>\n",
       "      <td>24.361936</td>\n",
       "      <td>1.739450</td>\n",
       "      <td>133.346641</td>\n",
       "      <td>yes</td>\n",
       "      <td>yes</td>\n",
       "      <td>3.0</td>\n",
       "      <td>3.0</td>\n",
       "      <td>Sometimes</td>\n",
       "      <td>no</td>\n",
       "      <td>2.852339</td>\n",
       "      <td>no</td>\n",
       "      <td>1.139107</td>\n",
       "      <td>0.586035</td>\n",
       "      <td>Sometimes</td>\n",
       "      <td>Public_Transportation</td>\n",
       "      <td>Obesity_Type_III</td>\n",
       "    </tr>\n",
       "    <tr>\n",
       "      <th>2110</th>\n",
       "      <td>Female</td>\n",
       "      <td>23.664709</td>\n",
       "      <td>1.738836</td>\n",
       "      <td>133.472641</td>\n",
       "      <td>yes</td>\n",
       "      <td>yes</td>\n",
       "      <td>3.0</td>\n",
       "      <td>3.0</td>\n",
       "      <td>Sometimes</td>\n",
       "      <td>no</td>\n",
       "      <td>2.863513</td>\n",
       "      <td>no</td>\n",
       "      <td>1.026452</td>\n",
       "      <td>0.714137</td>\n",
       "      <td>Sometimes</td>\n",
       "      <td>Public_Transportation</td>\n",
       "      <td>Obesity_Type_III</td>\n",
       "    </tr>\n",
       "  </tbody>\n",
       "</table>\n",
       "<p>2111 rows × 17 columns</p>\n",
       "</div>"
      ],
      "text/plain": [
       "      Gender        Age    Height      Weight family_history_with_overweight  \\\n",
       "0     Female  21.000000  1.620000   64.000000                            yes   \n",
       "1     Female  21.000000  1.520000   56.000000                            yes   \n",
       "2       Male  23.000000  1.800000   77.000000                            yes   \n",
       "3       Male  27.000000  1.800000   87.000000                             no   \n",
       "4       Male  22.000000  1.780000   89.800000                             no   \n",
       "...      ...        ...       ...         ...                            ...   \n",
       "2106  Female  20.976842  1.710730  131.408528                            yes   \n",
       "2107  Female  21.982942  1.748584  133.742943                            yes   \n",
       "2108  Female  22.524036  1.752206  133.689352                            yes   \n",
       "2109  Female  24.361936  1.739450  133.346641                            yes   \n",
       "2110  Female  23.664709  1.738836  133.472641                            yes   \n",
       "\n",
       "     FAVC  FCVC  NCP       CAEC SMOKE      CH2O  SCC       FAF       TUE  \\\n",
       "0      no   2.0  3.0  Sometimes    no  2.000000   no  0.000000  1.000000   \n",
       "1      no   3.0  3.0  Sometimes   yes  3.000000  yes  3.000000  0.000000   \n",
       "2      no   2.0  3.0  Sometimes    no  2.000000   no  2.000000  1.000000   \n",
       "3      no   3.0  3.0  Sometimes    no  2.000000   no  2.000000  0.000000   \n",
       "4      no   2.0  1.0  Sometimes    no  2.000000   no  0.000000  0.000000   \n",
       "...   ...   ...  ...        ...   ...       ...  ...       ...       ...   \n",
       "2106  yes   3.0  3.0  Sometimes    no  1.728139   no  1.676269  0.906247   \n",
       "2107  yes   3.0  3.0  Sometimes    no  2.005130   no  1.341390  0.599270   \n",
       "2108  yes   3.0  3.0  Sometimes    no  2.054193   no  1.414209  0.646288   \n",
       "2109  yes   3.0  3.0  Sometimes    no  2.852339   no  1.139107  0.586035   \n",
       "2110  yes   3.0  3.0  Sometimes    no  2.863513   no  1.026452  0.714137   \n",
       "\n",
       "            CALC                 MTRANS           NObeyesdad  \n",
       "0             no  Public_Transportation        Normal_Weight  \n",
       "1      Sometimes  Public_Transportation        Normal_Weight  \n",
       "2     Frequently  Public_Transportation        Normal_Weight  \n",
       "3     Frequently                Walking   Overweight_Level_I  \n",
       "4      Sometimes  Public_Transportation  Overweight_Level_II  \n",
       "...          ...                    ...                  ...  \n",
       "2106   Sometimes  Public_Transportation     Obesity_Type_III  \n",
       "2107   Sometimes  Public_Transportation     Obesity_Type_III  \n",
       "2108   Sometimes  Public_Transportation     Obesity_Type_III  \n",
       "2109   Sometimes  Public_Transportation     Obesity_Type_III  \n",
       "2110   Sometimes  Public_Transportation     Obesity_Type_III  \n",
       "\n",
       "[2111 rows x 17 columns]"
      ]
     },
     "execution_count": 35,
     "metadata": {},
     "output_type": "execute_result"
    }
   ],
   "source": [
    "df1"
   ]
  },
  {
   "cell_type": "code",
   "execution_count": 36,
   "id": "3de0285d",
   "metadata": {},
   "outputs": [
    {
     "data": {
      "text/plain": [
       "(2111, 17)"
      ]
     },
     "execution_count": 36,
     "metadata": {},
     "output_type": "execute_result"
    }
   ],
   "source": [
    "df1.shape"
   ]
  },
  {
   "cell_type": "code",
   "execution_count": 37,
   "id": "2940af8f",
   "metadata": {},
   "outputs": [
    {
     "data": {
      "text/plain": [
       "Gender                            0\n",
       "Age                               0\n",
       "Height                            0\n",
       "Weight                            0\n",
       "family_history_with_overweight    0\n",
       "FAVC                              0\n",
       "FCVC                              0\n",
       "NCP                               0\n",
       "CAEC                              0\n",
       "SMOKE                             0\n",
       "CH2O                              0\n",
       "SCC                               0\n",
       "FAF                               0\n",
       "TUE                               0\n",
       "CALC                              0\n",
       "MTRANS                            0\n",
       "NObeyesdad                        0\n",
       "dtype: int64"
      ]
     },
     "execution_count": 37,
     "metadata": {},
     "output_type": "execute_result"
    }
   ],
   "source": [
    "df1.isnull().sum()"
   ]
  },
  {
   "cell_type": "code",
   "execution_count": 38,
   "id": "67e94e04",
   "metadata": {},
   "outputs": [
    {
     "data": {
      "text/plain": [
       "24"
      ]
     },
     "execution_count": 38,
     "metadata": {},
     "output_type": "execute_result"
    }
   ],
   "source": [
    "df1.duplicated().sum()"
   ]
  },
  {
   "cell_type": "code",
   "execution_count": 39,
   "id": "d335bb2c",
   "metadata": {},
   "outputs": [
    {
     "name": "stdout",
     "output_type": "stream",
     "text": [
      "<class 'pandas.core.frame.DataFrame'>\n",
      "RangeIndex: 2111 entries, 0 to 2110\n",
      "Data columns (total 17 columns):\n",
      " #   Column                          Non-Null Count  Dtype  \n",
      "---  ------                          --------------  -----  \n",
      " 0   Gender                          2111 non-null   object \n",
      " 1   Age                             2111 non-null   float64\n",
      " 2   Height                          2111 non-null   float64\n",
      " 3   Weight                          2111 non-null   float64\n",
      " 4   family_history_with_overweight  2111 non-null   object \n",
      " 5   FAVC                            2111 non-null   object \n",
      " 6   FCVC                            2111 non-null   float64\n",
      " 7   NCP                             2111 non-null   float64\n",
      " 8   CAEC                            2111 non-null   object \n",
      " 9   SMOKE                           2111 non-null   object \n",
      " 10  CH2O                            2111 non-null   float64\n",
      " 11  SCC                             2111 non-null   object \n",
      " 12  FAF                             2111 non-null   float64\n",
      " 13  TUE                             2111 non-null   float64\n",
      " 14  CALC                            2111 non-null   object \n",
      " 15  MTRANS                          2111 non-null   object \n",
      " 16  NObeyesdad                      2111 non-null   object \n",
      "dtypes: float64(8), object(9)\n",
      "memory usage: 280.5+ KB\n"
     ]
    }
   ],
   "source": [
    "df1.info()"
   ]
  },
  {
   "cell_type": "code",
   "execution_count": 40,
   "id": "63ca2b74",
   "metadata": {},
   "outputs": [],
   "source": [
    "# Separate features (X) and target variable (y)\n",
    "X = df1.drop(\"NObeyesdad\", axis=1)\n",
    "y = df1[\"NObeyesdad\"]"
   ]
  },
  {
   "cell_type": "code",
   "execution_count": 41,
   "id": "fecfd4cc",
   "metadata": {},
   "outputs": [],
   "source": [
    "# Perform label encoding for categorical features\n",
    "le = LabelEncoder()\n",
    "X[\"Gender\"] = le.fit_transform(X[\"Gender\"])\n",
    "X[\"family_history_with_overweight\"] = le.fit_transform(X[\"family_history_with_overweight\"])\n",
    "X[\"FAVC\"] = le.fit_transform(X[\"FAVC\"])\n",
    "X[\"CAEC\"] = le.fit_transform(X[\"CAEC\"])\n",
    "X[\"SMOKE\"] = le.fit_transform(X[\"SMOKE\"])\n",
    "X[\"SCC\"] = le.fit_transform(X[\"SCC\"])\n",
    "X[\"CALC\"] = le.fit_transform(X[\"CALC\"])\n",
    "X[\"MTRANS\"] = le.fit_transform(X[\"MTRANS\"])"
   ]
  },
  {
   "cell_type": "code",
   "execution_count": 42,
   "id": "1ea15993",
   "metadata": {},
   "outputs": [],
   "source": [
    "# Split the data into training and testing sets\n",
    "X_train, X_test, y_train, y_test = train_test_split(X, y, test_size=0.2, random_state=42)\n",
    "\n",
    "# Scale the numerical features\n",
    "scaler = StandardScaler()\n",
    "numerical_features = [\"Age\", \"Height\", \"Weight\", \"FCVC\", \"NCP\", \"CH2O\", \"FAF\", \"TUE\"]\n",
    "X_train[numerical_features] = scaler.fit_transform(X_train[numerical_features])\n",
    "X_test[numerical_features] = scaler.transform(X_test[numerical_features])"
   ]
  },
  {
   "cell_type": "code",
   "execution_count": 43,
   "id": "548fb1ee",
   "metadata": {},
   "outputs": [],
   "source": [
    "from sklearn.linear_model import LogisticRegression\n",
    "from sklearn.tree import DecisionTreeClassifier\n",
    "from sklearn.ensemble import RandomForestClassifier\n",
    "from sklearn.svm import SVC"
   ]
  },
  {
   "cell_type": "code",
   "execution_count": 44,
   "id": "0b57bf29",
   "metadata": {},
   "outputs": [],
   "source": [
    "# Initialize the classifiers\n",
    "logreg = LogisticRegression(max_iter=1000)\n",
    "dt = DecisionTreeClassifier()\n",
    "rf = RandomForestClassifier()\n",
    "svm = SVC()"
   ]
  },
  {
   "cell_type": "code",
   "execution_count": 45,
   "id": "77d0603e",
   "metadata": {},
   "outputs": [
    {
     "data": {
      "text/plain": [
       "SVC()"
      ]
     },
     "execution_count": 45,
     "metadata": {},
     "output_type": "execute_result"
    }
   ],
   "source": [
    "# Fit the models on the training data\n",
    "logreg.fit(X_train, y_train)\n",
    "dt.fit(X_train, y_train)\n",
    "rf.fit(X_train, y_train)\n",
    "svm.fit(X_train, y_train)"
   ]
  },
  {
   "cell_type": "code",
   "execution_count": 46,
   "id": "bd8cec21",
   "metadata": {},
   "outputs": [],
   "source": [
    "# Make predictions on the test data\n",
    "logreg_pred = logreg.predict(X_test)\n",
    "dt_pred = dt.predict(X_test)\n",
    "rf_pred = rf.predict(X_test)\n",
    "svm_pred = svm.predict(X_test)"
   ]
  },
  {
   "cell_type": "code",
   "execution_count": 47,
   "id": "2316d47e",
   "metadata": {},
   "outputs": [
    {
     "name": "stdout",
     "output_type": "stream",
     "text": [
      "Logistic Regression Accuracy: 0.8747044917257684\n",
      "Decision Tree Accuracy: 0.9408983451536643\n",
      "Random Forest Accuracy: 0.9574468085106383\n",
      "Support Vector Machine Accuracy: 0.91725768321513\n"
     ]
    }
   ],
   "source": [
    "# Evaluate the performance of the models\n",
    "print(\"Logistic Regression Accuracy:\", accuracy_score(y_test, logreg_pred))\n",
    "print(\"Decision Tree Accuracy:\", accuracy_score(y_test, dt_pred))\n",
    "print(\"Random Forest Accuracy:\", accuracy_score(y_test, rf_pred))\n",
    "print(\"Support Vector Machine Accuracy:\", accuracy_score(y_test, svm_pred))"
   ]
  },
  {
   "cell_type": "markdown",
   "id": "4a0bfeda",
   "metadata": {},
   "source": [
    "### Q-3. Imagine you have a dataset where you have different categories of data, Now you need to find the most similar data to the given data by using any 4 different similarity algorithms. Now you have to build a model which can find the most similar data to the given data"
   ]
  },
  {
   "cell_type": "code",
   "execution_count": 51,
   "id": "bd5d8c6a",
   "metadata": {},
   "outputs": [],
   "source": [
    "df2=pd.read_json(r\"C:\\Users\\user\\Downloads\\archive (2)\\News_Category_Dataset_v3.json\",lines=True)"
   ]
  },
  {
   "cell_type": "code",
   "execution_count": 52,
   "id": "88566b7f",
   "metadata": {},
   "outputs": [
    {
     "data": {
      "text/html": [
       "<div>\n",
       "<style scoped>\n",
       "    .dataframe tbody tr th:only-of-type {\n",
       "        vertical-align: middle;\n",
       "    }\n",
       "\n",
       "    .dataframe tbody tr th {\n",
       "        vertical-align: top;\n",
       "    }\n",
       "\n",
       "    .dataframe thead th {\n",
       "        text-align: right;\n",
       "    }\n",
       "</style>\n",
       "<table border=\"1\" class=\"dataframe\">\n",
       "  <thead>\n",
       "    <tr style=\"text-align: right;\">\n",
       "      <th></th>\n",
       "      <th>link</th>\n",
       "      <th>headline</th>\n",
       "      <th>category</th>\n",
       "      <th>short_description</th>\n",
       "      <th>authors</th>\n",
       "      <th>date</th>\n",
       "    </tr>\n",
       "  </thead>\n",
       "  <tbody>\n",
       "    <tr>\n",
       "      <th>0</th>\n",
       "      <td>https://www.huffpost.com/entry/covid-boosters-...</td>\n",
       "      <td>Over 4 Million Americans Roll Up Sleeves For O...</td>\n",
       "      <td>U.S. NEWS</td>\n",
       "      <td>Health experts said it is too early to predict...</td>\n",
       "      <td>Carla K. Johnson, AP</td>\n",
       "      <td>2022-09-23</td>\n",
       "    </tr>\n",
       "    <tr>\n",
       "      <th>1</th>\n",
       "      <td>https://www.huffpost.com/entry/american-airlin...</td>\n",
       "      <td>American Airlines Flyer Charged, Banned For Li...</td>\n",
       "      <td>U.S. NEWS</td>\n",
       "      <td>He was subdued by passengers and crew when he ...</td>\n",
       "      <td>Mary Papenfuss</td>\n",
       "      <td>2022-09-23</td>\n",
       "    </tr>\n",
       "    <tr>\n",
       "      <th>2</th>\n",
       "      <td>https://www.huffpost.com/entry/funniest-tweets...</td>\n",
       "      <td>23 Of The Funniest Tweets About Cats And Dogs ...</td>\n",
       "      <td>COMEDY</td>\n",
       "      <td>\"Until you have a dog you don't understand wha...</td>\n",
       "      <td>Elyse Wanshel</td>\n",
       "      <td>2022-09-23</td>\n",
       "    </tr>\n",
       "    <tr>\n",
       "      <th>3</th>\n",
       "      <td>https://www.huffpost.com/entry/funniest-parent...</td>\n",
       "      <td>The Funniest Tweets From Parents This Week (Se...</td>\n",
       "      <td>PARENTING</td>\n",
       "      <td>\"Accidentally put grown-up toothpaste on my to...</td>\n",
       "      <td>Caroline Bologna</td>\n",
       "      <td>2022-09-23</td>\n",
       "    </tr>\n",
       "    <tr>\n",
       "      <th>4</th>\n",
       "      <td>https://www.huffpost.com/entry/amy-cooper-lose...</td>\n",
       "      <td>Woman Who Called Cops On Black Bird-Watcher Lo...</td>\n",
       "      <td>U.S. NEWS</td>\n",
       "      <td>Amy Cooper accused investment firm Franklin Te...</td>\n",
       "      <td>Nina Golgowski</td>\n",
       "      <td>2022-09-22</td>\n",
       "    </tr>\n",
       "    <tr>\n",
       "      <th>...</th>\n",
       "      <td>...</td>\n",
       "      <td>...</td>\n",
       "      <td>...</td>\n",
       "      <td>...</td>\n",
       "      <td>...</td>\n",
       "      <td>...</td>\n",
       "    </tr>\n",
       "    <tr>\n",
       "      <th>209522</th>\n",
       "      <td>https://www.huffingtonpost.com/entry/rim-ceo-t...</td>\n",
       "      <td>RIM CEO Thorsten Heins' 'Significant' Plans Fo...</td>\n",
       "      <td>TECH</td>\n",
       "      <td>Verizon Wireless and AT&amp;T are already promotin...</td>\n",
       "      <td>Reuters, Reuters</td>\n",
       "      <td>2012-01-28</td>\n",
       "    </tr>\n",
       "    <tr>\n",
       "      <th>209523</th>\n",
       "      <td>https://www.huffingtonpost.com/entry/maria-sha...</td>\n",
       "      <td>Maria Sharapova Stunned By Victoria Azarenka I...</td>\n",
       "      <td>SPORTS</td>\n",
       "      <td>Afterward, Azarenka, more effusive with the pr...</td>\n",
       "      <td></td>\n",
       "      <td>2012-01-28</td>\n",
       "    </tr>\n",
       "    <tr>\n",
       "      <th>209524</th>\n",
       "      <td>https://www.huffingtonpost.com/entry/super-bow...</td>\n",
       "      <td>Giants Over Patriots, Jets Over Colts Among  M...</td>\n",
       "      <td>SPORTS</td>\n",
       "      <td>Leading up to Super Bowl XLVI, the most talked...</td>\n",
       "      <td></td>\n",
       "      <td>2012-01-28</td>\n",
       "    </tr>\n",
       "    <tr>\n",
       "      <th>209525</th>\n",
       "      <td>https://www.huffingtonpost.com/entry/aldon-smi...</td>\n",
       "      <td>Aldon Smith Arrested: 49ers Linebacker Busted ...</td>\n",
       "      <td>SPORTS</td>\n",
       "      <td>CORRECTION: An earlier version of this story i...</td>\n",
       "      <td></td>\n",
       "      <td>2012-01-28</td>\n",
       "    </tr>\n",
       "    <tr>\n",
       "      <th>209526</th>\n",
       "      <td>https://www.huffingtonpost.com/entry/dwight-ho...</td>\n",
       "      <td>Dwight Howard Rips Teammates After Magic Loss ...</td>\n",
       "      <td>SPORTS</td>\n",
       "      <td>The five-time all-star center tore into his te...</td>\n",
       "      <td></td>\n",
       "      <td>2012-01-28</td>\n",
       "    </tr>\n",
       "  </tbody>\n",
       "</table>\n",
       "<p>209527 rows × 6 columns</p>\n",
       "</div>"
      ],
      "text/plain": [
       "                                                     link  \\\n",
       "0       https://www.huffpost.com/entry/covid-boosters-...   \n",
       "1       https://www.huffpost.com/entry/american-airlin...   \n",
       "2       https://www.huffpost.com/entry/funniest-tweets...   \n",
       "3       https://www.huffpost.com/entry/funniest-parent...   \n",
       "4       https://www.huffpost.com/entry/amy-cooper-lose...   \n",
       "...                                                   ...   \n",
       "209522  https://www.huffingtonpost.com/entry/rim-ceo-t...   \n",
       "209523  https://www.huffingtonpost.com/entry/maria-sha...   \n",
       "209524  https://www.huffingtonpost.com/entry/super-bow...   \n",
       "209525  https://www.huffingtonpost.com/entry/aldon-smi...   \n",
       "209526  https://www.huffingtonpost.com/entry/dwight-ho...   \n",
       "\n",
       "                                                 headline   category  \\\n",
       "0       Over 4 Million Americans Roll Up Sleeves For O...  U.S. NEWS   \n",
       "1       American Airlines Flyer Charged, Banned For Li...  U.S. NEWS   \n",
       "2       23 Of The Funniest Tweets About Cats And Dogs ...     COMEDY   \n",
       "3       The Funniest Tweets From Parents This Week (Se...  PARENTING   \n",
       "4       Woman Who Called Cops On Black Bird-Watcher Lo...  U.S. NEWS   \n",
       "...                                                   ...        ...   \n",
       "209522  RIM CEO Thorsten Heins' 'Significant' Plans Fo...       TECH   \n",
       "209523  Maria Sharapova Stunned By Victoria Azarenka I...     SPORTS   \n",
       "209524  Giants Over Patriots, Jets Over Colts Among  M...     SPORTS   \n",
       "209525  Aldon Smith Arrested: 49ers Linebacker Busted ...     SPORTS   \n",
       "209526  Dwight Howard Rips Teammates After Magic Loss ...     SPORTS   \n",
       "\n",
       "                                        short_description  \\\n",
       "0       Health experts said it is too early to predict...   \n",
       "1       He was subdued by passengers and crew when he ...   \n",
       "2       \"Until you have a dog you don't understand wha...   \n",
       "3       \"Accidentally put grown-up toothpaste on my to...   \n",
       "4       Amy Cooper accused investment firm Franklin Te...   \n",
       "...                                                   ...   \n",
       "209522  Verizon Wireless and AT&T are already promotin...   \n",
       "209523  Afterward, Azarenka, more effusive with the pr...   \n",
       "209524  Leading up to Super Bowl XLVI, the most talked...   \n",
       "209525  CORRECTION: An earlier version of this story i...   \n",
       "209526  The five-time all-star center tore into his te...   \n",
       "\n",
       "                     authors       date  \n",
       "0       Carla K. Johnson, AP 2022-09-23  \n",
       "1             Mary Papenfuss 2022-09-23  \n",
       "2              Elyse Wanshel 2022-09-23  \n",
       "3           Caroline Bologna 2022-09-23  \n",
       "4             Nina Golgowski 2022-09-22  \n",
       "...                      ...        ...  \n",
       "209522      Reuters, Reuters 2012-01-28  \n",
       "209523                       2012-01-28  \n",
       "209524                       2012-01-28  \n",
       "209525                       2012-01-28  \n",
       "209526                       2012-01-28  \n",
       "\n",
       "[209527 rows x 6 columns]"
      ]
     },
     "execution_count": 52,
     "metadata": {},
     "output_type": "execute_result"
    }
   ],
   "source": [
    "df2"
   ]
  },
  {
   "cell_type": "code",
   "execution_count": 53,
   "id": "a90be3fd",
   "metadata": {},
   "outputs": [],
   "source": [
    "import pandas as pd\n",
    "from sklearn.feature_extraction.text import TfidfVectorizer\n",
    "from sklearn.metrics.pairwise import cosine_similarity\n",
    "from sklearn.metrics.pairwise import euclidean_distances\n",
    "from sklearn.metrics import jaccard_score\n",
    "import Levenshtein"
   ]
  },
  {
   "cell_type": "code",
   "execution_count": 54,
   "id": "545aa004",
   "metadata": {},
   "outputs": [],
   "source": [
    "# Select the relevant columns for similarity calculation\n",
    "selected_columns = ['headline', 'category', 'short_description']"
   ]
  },
  {
   "cell_type": "code",
   "execution_count": 55,
   "id": "dc771d74",
   "metadata": {},
   "outputs": [],
   "source": [
    "# Preprocess the text data\n",
    "text_data = df2[selected_columns].apply(lambda x: ' '.join(x), axis=1)"
   ]
  },
  {
   "cell_type": "code",
   "execution_count": 56,
   "id": "215a5522",
   "metadata": {},
   "outputs": [],
   "source": [
    "# Create a TF-IDF vectorizer\n",
    "vectorizer = TfidfVectorizer()"
   ]
  },
  {
   "cell_type": "code",
   "execution_count": 57,
   "id": "9608b281",
   "metadata": {},
   "outputs": [],
   "source": [
    "# Vectorize the text data\n",
    "text_vectors = vectorizer.fit_transform(text_data)"
   ]
  },
  {
   "cell_type": "code",
   "execution_count": 58,
   "id": "736d3a51",
   "metadata": {},
   "outputs": [],
   "source": [
    "# Select a data point for similarity comparison (e.g., the first data point)\n",
    "query_data = text_data.iloc[0]\n",
    "query_vector = vectorizer.transform([query_data])"
   ]
  },
  {
   "cell_type": "code",
   "execution_count": 59,
   "id": "f6c3e00e",
   "metadata": {},
   "outputs": [],
   "source": [
    "# Calculate cosine similarity\n",
    "cosine_similarities = cosine_similarity(query_vector, text_vectors).flatten()"
   ]
  },
  {
   "cell_type": "code",
   "execution_count": 60,
   "id": "ba5381a8",
   "metadata": {},
   "outputs": [],
   "source": [
    "# Calculate Jaccard similarity\n",
    "jaccard_similarities = []\n",
    "for text in text_data:\n",
    "    intersection = set(query_data.split()).intersection(text.split())\n",
    "    union = set(query_data.split()).union(text.split())\n",
    "    similarity = len(intersection) / len(union)\n",
    "    jaccard_similarities.append(similarity)"
   ]
  },
  {
   "cell_type": "code",
   "execution_count": 61,
   "id": "bf4669b1",
   "metadata": {},
   "outputs": [],
   "source": [
    "# Calculate Levenshtein distance\n",
    "levenshtein_distances = []\n",
    "for text in text_data:\n",
    "    levenshtein_distances.append(Levenshtein.distance(query_data, text))"
   ]
  },
  {
   "cell_type": "code",
   "execution_count": 62,
   "id": "56a5db0c",
   "metadata": {},
   "outputs": [],
   "source": [
    "\n",
    "# Create a DataFrame to store the similarity results\n",
    "similarity_df2 = pd.DataFrame({\n",
    "    'Cosine Similarity': cosine_similarities,\n",
    "    'Jaccard Similarity': jaccard_similarities,\n",
    "    'Levenshtein Distance': levenshtein_distances\n",
    "})\n"
   ]
  },
  {
   "cell_type": "code",
   "execution_count": 63,
   "id": "7da139c9",
   "metadata": {},
   "outputs": [
    {
     "name": "stdout",
     "output_type": "stream",
     "text": [
      "Most similar data (Cosine Similarity):\n",
      "link                 https://www.huffpost.com/entry/covid-boosters-...\n",
      "headline             Over 4 Million Americans Roll Up Sleeves For O...\n",
      "category                                                     U.S. NEWS\n",
      "short_description    Health experts said it is too early to predict...\n",
      "authors                                           Carla K. Johnson, AP\n",
      "date                                               2022-09-23 00:00:00\n",
      "Name: 0, dtype: object\n",
      "Most similar data (Jaccard Similarity):\n",
      "link                 https://www.huffpost.com/entry/covid-boosters-...\n",
      "headline             Over 4 Million Americans Roll Up Sleeves For O...\n",
      "category                                                     U.S. NEWS\n",
      "short_description    Health experts said it is too early to predict...\n",
      "authors                                           Carla K. Johnson, AP\n",
      "date                                               2022-09-23 00:00:00\n",
      "Name: 0, dtype: object\n",
      "Most similar data (Levenshtein Distance):\n",
      "link                 https://www.huffpost.com/entry/covid-boosters-...\n",
      "headline             Over 4 Million Americans Roll Up Sleeves For O...\n",
      "category                                                     U.S. NEWS\n",
      "short_description    Health experts said it is too early to predict...\n",
      "authors                                           Carla K. Johnson, AP\n",
      "date                                               2022-09-23 00:00:00\n",
      "Name: 0, dtype: object\n"
     ]
    }
   ],
   "source": [
    "# Find the most similar data point based on each similarity algorithm\n",
    "most_similar_cosine = similarity_df2['Cosine Similarity'].idxmax()\n",
    "most_similar_jaccard = similarity_df2['Jaccard Similarity'].idxmax()\n",
    "most_similar_levenshtein = similarity_df2['Levenshtein Distance'].idxmin()\n",
    "\n",
    "# Print the most similar data points\n",
    "print(\"Most similar data (Cosine Similarity):\")\n",
    "print(df2.loc[most_similar_cosine])\n",
    "\n",
    "print(\"Most similar data (Jaccard Similarity):\")\n",
    "print(df2.loc[most_similar_jaccard])\n",
    "\n",
    "print(\"Most similar data (Levenshtein Distance):\")\n",
    "print(df2.loc[most_similar_levenshtein])"
   ]
  },
  {
   "cell_type": "markdown",
   "id": "86150665",
   "metadata": {},
   "source": [
    "### Q4:-Imagine you working as a sale manager now you need to predict the Revenue and whether that particular revenue is on the weekend or not and find the Informational_Duration using the Ensemble learning algorithm"
   ]
  },
  {
   "cell_type": "code",
   "execution_count": 159,
   "id": "4ba3798e",
   "metadata": {},
   "outputs": [],
   "source": [
    "df4=pd.read_csv(r\"C:\\Users\\user\\Downloads\\archive (3)\\online_shoppers_intention.csv\")"
   ]
  },
  {
   "cell_type": "code",
   "execution_count": 162,
   "id": "82000327",
   "metadata": {},
   "outputs": [
    {
     "data": {
      "text/html": [
       "<div>\n",
       "<style scoped>\n",
       "    .dataframe tbody tr th:only-of-type {\n",
       "        vertical-align: middle;\n",
       "    }\n",
       "\n",
       "    .dataframe tbody tr th {\n",
       "        vertical-align: top;\n",
       "    }\n",
       "\n",
       "    .dataframe thead th {\n",
       "        text-align: right;\n",
       "    }\n",
       "</style>\n",
       "<table border=\"1\" class=\"dataframe\">\n",
       "  <thead>\n",
       "    <tr style=\"text-align: right;\">\n",
       "      <th></th>\n",
       "      <th>Administrative</th>\n",
       "      <th>Administrative_Duration</th>\n",
       "      <th>Informational</th>\n",
       "      <th>Informational_Duration</th>\n",
       "      <th>ProductRelated</th>\n",
       "      <th>ProductRelated_Duration</th>\n",
       "      <th>BounceRates</th>\n",
       "      <th>ExitRates</th>\n",
       "      <th>PageValues</th>\n",
       "      <th>SpecialDay</th>\n",
       "      <th>Month</th>\n",
       "      <th>OperatingSystems</th>\n",
       "      <th>Browser</th>\n",
       "      <th>Region</th>\n",
       "      <th>TrafficType</th>\n",
       "      <th>VisitorType</th>\n",
       "      <th>Weekend</th>\n",
       "      <th>Revenue</th>\n",
       "    </tr>\n",
       "  </thead>\n",
       "  <tbody>\n",
       "    <tr>\n",
       "      <th>7529</th>\n",
       "      <td>0</td>\n",
       "      <td>0.000</td>\n",
       "      <td>0</td>\n",
       "      <td>0.0</td>\n",
       "      <td>48</td>\n",
       "      <td>3177.366667</td>\n",
       "      <td>0.008511</td>\n",
       "      <td>0.044681</td>\n",
       "      <td>0.0</td>\n",
       "      <td>0.0</td>\n",
       "      <td>Jul</td>\n",
       "      <td>2</td>\n",
       "      <td>2</td>\n",
       "      <td>5</td>\n",
       "      <td>1</td>\n",
       "      <td>Returning_Visitor</td>\n",
       "      <td>False</td>\n",
       "      <td>False</td>\n",
       "    </tr>\n",
       "    <tr>\n",
       "      <th>8585</th>\n",
       "      <td>11</td>\n",
       "      <td>194.575</td>\n",
       "      <td>0</td>\n",
       "      <td>0.0</td>\n",
       "      <td>81</td>\n",
       "      <td>2126.077501</td>\n",
       "      <td>0.011728</td>\n",
       "      <td>0.021291</td>\n",
       "      <td>0.0</td>\n",
       "      <td>0.0</td>\n",
       "      <td>Nov</td>\n",
       "      <td>3</td>\n",
       "      <td>2</td>\n",
       "      <td>1</td>\n",
       "      <td>2</td>\n",
       "      <td>Returning_Visitor</td>\n",
       "      <td>True</td>\n",
       "      <td>False</td>\n",
       "    </tr>\n",
       "  </tbody>\n",
       "</table>\n",
       "</div>"
      ],
      "text/plain": [
       "      Administrative  Administrative_Duration  Informational  \\\n",
       "7529               0                    0.000              0   \n",
       "8585              11                  194.575              0   \n",
       "\n",
       "      Informational_Duration  ProductRelated  ProductRelated_Duration  \\\n",
       "7529                     0.0              48              3177.366667   \n",
       "8585                     0.0              81              2126.077501   \n",
       "\n",
       "      BounceRates  ExitRates  PageValues  SpecialDay Month  OperatingSystems  \\\n",
       "7529     0.008511   0.044681         0.0         0.0   Jul                 2   \n",
       "8585     0.011728   0.021291         0.0         0.0   Nov                 3   \n",
       "\n",
       "      Browser  Region  TrafficType        VisitorType  Weekend  Revenue  \n",
       "7529        2       5            1  Returning_Visitor    False    False  \n",
       "8585        2       1            2  Returning_Visitor     True    False  "
      ]
     },
     "execution_count": 162,
     "metadata": {},
     "output_type": "execute_result"
    }
   ],
   "source": [
    "df4.sample(2)"
   ]
  },
  {
   "cell_type": "code",
   "execution_count": 161,
   "id": "1f272b95",
   "metadata": {},
   "outputs": [],
   "source": [
    "import pandas as pd\n",
    "from sklearn.model_selection import train_test_split\n",
    "from sklearn.ensemble import RandomForestClassifier\n",
    "from sklearn.metrics import classification_report, accuracy_score, mean_squared_error\n",
    "from sklearn.preprocessing import LabelEncoder, OneHotEncoder\n",
    "from sklearn.ensemble import RandomForestRegressor\n",
    "from sklearn.metrics import mean_squared_error"
   ]
  },
  {
   "cell_type": "code",
   "execution_count": 164,
   "id": "2744792f",
   "metadata": {},
   "outputs": [],
   "source": [
    "# Encode categorical features\n",
    "categorical_features = ['Month', 'OperatingSystems', 'Browser', 'Region', 'TrafficType', 'VisitorType']\n",
    "df_encoded = pd.get_dummies(df4, columns=categorical_features, drop_first=True)"
   ]
  },
  {
   "cell_type": "code",
   "execution_count": 165,
   "id": "5fe375c8",
   "metadata": {},
   "outputs": [],
   "source": [
    "# Separate the target variables\n",
    "X = df_encoded.drop(['Revenue', 'Informational_Duration'], axis=1)\n",
    "y_revenue = df_encoded['Revenue']\n",
    "y_weekend = df_encoded['Weekend']\n",
    "informational_duration = df_encoded['Informational_Duration']"
   ]
  },
  {
   "cell_type": "code",
   "execution_count": 166,
   "id": "2216024e",
   "metadata": {},
   "outputs": [],
   "source": [
    "# Split the data into training and testing sets\n",
    "X_train, X_test, y_revenue_train, y_revenue_test, y_weekend_train, y_weekend_test, \\\n",
    "informational_duration_train, informational_duration_test = train_test_split(X, y_revenue, y_weekend, informational_duration, test_size=0.2, random_state=42)"
   ]
  },
  {
   "cell_type": "code",
   "execution_count": 167,
   "id": "63f4a153",
   "metadata": {},
   "outputs": [
    {
     "data": {
      "text/plain": [
       "RandomForestClassifier()"
      ]
     },
     "execution_count": 167,
     "metadata": {},
     "output_type": "execute_result"
    }
   ],
   "source": [
    "# Train the ensemble models for Revenue and Weekend\n",
    "revenue_model = RandomForestClassifier(n_estimators=100)\n",
    "revenue_model.fit(X_train, y_revenue_train)"
   ]
  },
  {
   "cell_type": "code",
   "execution_count": 168,
   "id": "898df2f2",
   "metadata": {},
   "outputs": [
    {
     "data": {
      "text/plain": [
       "RandomForestClassifier()"
      ]
     },
     "execution_count": 168,
     "metadata": {},
     "output_type": "execute_result"
    }
   ],
   "source": [
    "weekend_model = RandomForestClassifier(n_estimators=100)\n",
    "weekend_model.fit(X_train, y_weekend_train)"
   ]
  },
  {
   "cell_type": "code",
   "execution_count": 169,
   "id": "925f68ad",
   "metadata": {},
   "outputs": [],
   "source": [
    "# Predict Revenue and Weekend on the test set\n",
    "y_revenue_pred = revenue_model.predict(X_test)\n",
    "y_weekend_pred = weekend_model.predict(X_test)"
   ]
  },
  {
   "cell_type": "code",
   "execution_count": 170,
   "id": "ea45a8cf",
   "metadata": {},
   "outputs": [],
   "source": [
    "# Evaluate the performance of Revenue and Weekend models\n",
    "revenue_accuracy = accuracy_score(y_revenue_test, y_revenue_pred)\n",
    "weekend_accuracy = accuracy_score(y_weekend_test, y_weekend_pred)"
   ]
  },
  {
   "cell_type": "code",
   "execution_count": 171,
   "id": "1acb0172",
   "metadata": {},
   "outputs": [
    {
     "name": "stdout",
     "output_type": "stream",
     "text": [
      "Revenue Model Accuracy: 0.8921330089213301\n",
      "Weekend Model Accuracy: 1.0\n"
     ]
    }
   ],
   "source": [
    "print(\"Revenue Model Accuracy:\", revenue_accuracy)\n",
    "print(\"Weekend Model Accuracy:\", weekend_accuracy)"
   ]
  },
  {
   "cell_type": "code",
   "execution_count": 172,
   "id": "bbf3a141",
   "metadata": {},
   "outputs": [
    {
     "data": {
      "text/plain": [
       "RandomForestRegressor()"
      ]
     },
     "execution_count": 172,
     "metadata": {},
     "output_type": "execute_result"
    }
   ],
   "source": [
    "# Train the regression model for Informational_Duration\n",
    "duration_model = RandomForestRegressor(n_estimators=100)\n",
    "duration_model.fit(X_train, informational_duration_train)"
   ]
  },
  {
   "cell_type": "code",
   "execution_count": 173,
   "id": "d5925cbc",
   "metadata": {},
   "outputs": [],
   "source": [
    "# Predict Informational_Duration on the test set\n",
    "informational_duration_pred = duration_model.predict(X_test)"
   ]
  },
  {
   "cell_type": "code",
   "execution_count": 174,
   "id": "be29d42a",
   "metadata": {},
   "outputs": [
    {
     "name": "stdout",
     "output_type": "stream",
     "text": [
      "Average Informational_Duration Error: 30.99280865908264\n"
     ]
    }
   ],
   "source": [
    "# Evaluate the performance of Informational_Duration model\n",
    "duration_error = abs(informational_duration_test - informational_duration_pred)\n",
    "average_duration_error = duration_error.mean()\n",
    "\n",
    "print(\"Average Informational_Duration Error:\", average_duration_error)"
   ]
  },
  {
   "cell_type": "markdown",
   "id": "da76acc3",
   "metadata": {},
   "source": [
    "### Q-5. Uber is a taxi service provider as we know, we need to predict the high booking area using an Unsupervised algorithm and price for the location using a supervised algorithm and use some map function to display the data"
   ]
  },
  {
   "cell_type": "code",
   "execution_count": 175,
   "id": "0ed611a5",
   "metadata": {},
   "outputs": [],
   "source": [
    "df5=pd.read_csv(r\"C:\\Users\\user\\Downloads\\archive (4)\\rideshare_kaggle.csv\")"
   ]
  },
  {
   "cell_type": "code",
   "execution_count": 176,
   "id": "7b7d6496",
   "metadata": {},
   "outputs": [
    {
     "data": {
      "text/html": [
       "<div>\n",
       "<style scoped>\n",
       "    .dataframe tbody tr th:only-of-type {\n",
       "        vertical-align: middle;\n",
       "    }\n",
       "\n",
       "    .dataframe tbody tr th {\n",
       "        vertical-align: top;\n",
       "    }\n",
       "\n",
       "    .dataframe thead th {\n",
       "        text-align: right;\n",
       "    }\n",
       "</style>\n",
       "<table border=\"1\" class=\"dataframe\">\n",
       "  <thead>\n",
       "    <tr style=\"text-align: right;\">\n",
       "      <th></th>\n",
       "      <th>id</th>\n",
       "      <th>timestamp</th>\n",
       "      <th>hour</th>\n",
       "      <th>day</th>\n",
       "      <th>month</th>\n",
       "      <th>datetime</th>\n",
       "      <th>timezone</th>\n",
       "      <th>source</th>\n",
       "      <th>destination</th>\n",
       "      <th>cab_type</th>\n",
       "      <th>...</th>\n",
       "      <th>precipIntensityMax</th>\n",
       "      <th>uvIndexTime</th>\n",
       "      <th>temperatureMin</th>\n",
       "      <th>temperatureMinTime</th>\n",
       "      <th>temperatureMax</th>\n",
       "      <th>temperatureMaxTime</th>\n",
       "      <th>apparentTemperatureMin</th>\n",
       "      <th>apparentTemperatureMinTime</th>\n",
       "      <th>apparentTemperatureMax</th>\n",
       "      <th>apparentTemperatureMaxTime</th>\n",
       "    </tr>\n",
       "  </thead>\n",
       "  <tbody>\n",
       "    <tr>\n",
       "      <th>348314</th>\n",
       "      <td>a328d66c-f3eb-4c98-8a43-feb06a015823</td>\n",
       "      <td>1.543835e+09</td>\n",
       "      <td>10</td>\n",
       "      <td>3</td>\n",
       "      <td>12</td>\n",
       "      <td>2018-12-03 10:57:58</td>\n",
       "      <td>America/New_York</td>\n",
       "      <td>Northeastern University</td>\n",
       "      <td>Theatre District</td>\n",
       "      <td>Uber</td>\n",
       "      <td>...</td>\n",
       "      <td>0.0007</td>\n",
       "      <td>1543852800</td>\n",
       "      <td>42.96</td>\n",
       "      <td>1543896000</td>\n",
       "      <td>57.87</td>\n",
       "      <td>1543852800</td>\n",
       "      <td>39.41</td>\n",
       "      <td>1543896000</td>\n",
       "      <td>57.2</td>\n",
       "      <td>1543852800</td>\n",
       "    </tr>\n",
       "  </tbody>\n",
       "</table>\n",
       "<p>1 rows × 57 columns</p>\n",
       "</div>"
      ],
      "text/plain": [
       "                                          id     timestamp  hour  day  month  \\\n",
       "348314  a328d66c-f3eb-4c98-8a43-feb06a015823  1.543835e+09    10    3     12   \n",
       "\n",
       "                   datetime          timezone                   source  \\\n",
       "348314  2018-12-03 10:57:58  America/New_York  Northeastern University   \n",
       "\n",
       "             destination cab_type  ... precipIntensityMax uvIndexTime  \\\n",
       "348314  Theatre District     Uber  ...             0.0007  1543852800   \n",
       "\n",
       "        temperatureMin  temperatureMinTime  temperatureMax  \\\n",
       "348314           42.96          1543896000           57.87   \n",
       "\n",
       "        temperatureMaxTime  apparentTemperatureMin  \\\n",
       "348314          1543852800                   39.41   \n",
       "\n",
       "        apparentTemperatureMinTime  apparentTemperatureMax  \\\n",
       "348314                  1543896000                    57.2   \n",
       "\n",
       "       apparentTemperatureMaxTime  \n",
       "348314                 1543852800  \n",
       "\n",
       "[1 rows x 57 columns]"
      ]
     },
     "execution_count": 176,
     "metadata": {},
     "output_type": "execute_result"
    }
   ],
   "source": [
    "df5.sample(1)"
   ]
  },
  {
   "cell_type": "code",
   "execution_count": 177,
   "id": "fb0a6c66",
   "metadata": {},
   "outputs": [],
   "source": [
    "import pandas as pd\n",
    "import numpy as np\n",
    "from sklearn.cluster import KMeans\n",
    "from sklearn.linear_model import LinearRegression\n",
    "from sklearn.model_selection import train_test_split\n",
    "from sklearn.metrics import mean_squared_error\n",
    "import folium"
   ]
  },
  {
   "cell_type": "code",
   "execution_count": 178,
   "id": "03de03a7",
   "metadata": {},
   "outputs": [
    {
     "data": {
      "text/plain": [
       "Index(['id', 'timestamp', 'hour', 'day', 'month', 'datetime', 'timezone',\n",
       "       'source', 'destination', 'cab_type', 'product_id', 'name', 'price',\n",
       "       'distance', 'surge_multiplier', 'latitude', 'longitude', 'temperature',\n",
       "       'apparentTemperature', 'short_summary', 'long_summary',\n",
       "       'precipIntensity', 'precipProbability', 'humidity', 'windSpeed',\n",
       "       'windGust', 'windGustTime', 'visibility', 'temperatureHigh',\n",
       "       'temperatureHighTime', 'temperatureLow', 'temperatureLowTime',\n",
       "       'apparentTemperatureHigh', 'apparentTemperatureHighTime',\n",
       "       'apparentTemperatureLow', 'apparentTemperatureLowTime', 'icon',\n",
       "       'dewPoint', 'pressure', 'windBearing', 'cloudCover', 'uvIndex',\n",
       "       'visibility.1', 'ozone', 'sunriseTime', 'sunsetTime', 'moonPhase',\n",
       "       'precipIntensityMax', 'uvIndexTime', 'temperatureMin',\n",
       "       'temperatureMinTime', 'temperatureMax', 'temperatureMaxTime',\n",
       "       'apparentTemperatureMin', 'apparentTemperatureMinTime',\n",
       "       'apparentTemperatureMax', 'apparentTemperatureMaxTime'],\n",
       "      dtype='object')"
      ]
     },
     "execution_count": 178,
     "metadata": {},
     "output_type": "execute_result"
    }
   ],
   "source": [
    "df5.columns"
   ]
  },
  {
   "cell_type": "code",
   "execution_count": 181,
   "id": "2ab9fee5",
   "metadata": {},
   "outputs": [],
   "source": [
    "# Step 1: Preprocess the data\n",
    "data = df5[['latitude', 'longitude', 'price']]"
   ]
  },
  {
   "cell_type": "code",
   "execution_count": 182,
   "id": "3b6d301e",
   "metadata": {},
   "outputs": [
    {
     "name": "stderr",
     "output_type": "stream",
     "text": [
      "C:\\Users\\user\\AppData\\Local\\Temp\\ipykernel_16164\\1906223165.py:2: SettingWithCopyWarning: \n",
      "A value is trying to be set on a copy of a slice from a DataFrame\n",
      "\n",
      "See the caveats in the documentation: https://pandas.pydata.org/pandas-docs/stable/user_guide/indexing.html#returning-a-view-versus-a-copy\n",
      "  data.dropna(inplace=True)\n"
     ]
    }
   ],
   "source": [
    "# Handle missing values if necessary\n",
    "data.dropna(inplace=True)"
   ]
  },
  {
   "cell_type": "code",
   "execution_count": 183,
   "id": "da7620e1",
   "metadata": {},
   "outputs": [],
   "source": [
    "# Step 2: Unsupervised algorithm for predicting high booking areas\n",
    "# Select relevant features for clustering\n",
    "features = data[['latitude', 'longitude']]"
   ]
  },
  {
   "cell_type": "code",
   "execution_count": 184,
   "id": "90d0db10",
   "metadata": {},
   "outputs": [],
   "source": [
    "# Apply K-means clustering\n",
    "kmeans = KMeans(n_clusters=5)  # Adjust the number of clusters as needed\n",
    "clusters = kmeans.fit_predict(features)"
   ]
  },
  {
   "cell_type": "code",
   "execution_count": 185,
   "id": "1c85bd88",
   "metadata": {},
   "outputs": [
    {
     "name": "stderr",
     "output_type": "stream",
     "text": [
      "C:\\Users\\user\\AppData\\Local\\Temp\\ipykernel_16164\\481698210.py:2: SettingWithCopyWarning: \n",
      "A value is trying to be set on a copy of a slice from a DataFrame.\n",
      "Try using .loc[row_indexer,col_indexer] = value instead\n",
      "\n",
      "See the caveats in the documentation: https://pandas.pydata.org/pandas-docs/stable/user_guide/indexing.html#returning-a-view-versus-a-copy\n",
      "  data['cluster'] = clusters\n"
     ]
    }
   ],
   "source": [
    "# Add cluster labels to the DataFrame\n",
    "data['cluster'] = clusters"
   ]
  },
  {
   "cell_type": "code",
   "execution_count": 186,
   "id": "8f96daaa",
   "metadata": {},
   "outputs": [],
   "source": [
    "# Step 3: Supervised algorithm for predicting location prices\n",
    "# Prepare the data for supervised learning\n",
    "X = data[['latitude', 'longitude', 'cluster']]\n",
    "y = data['price']"
   ]
  },
  {
   "cell_type": "code",
   "execution_count": 187,
   "id": "d67e1392",
   "metadata": {},
   "outputs": [],
   "source": [
    "# Split the data into training and testing sets\n",
    "X_train, X_test, y_train, y_test = train_test_split(X, y, test_size=0.2, random_state=42)"
   ]
  },
  {
   "cell_type": "code",
   "execution_count": 188,
   "id": "2554746e",
   "metadata": {},
   "outputs": [],
   "source": [
    "# Choose a regression algorithm\n",
    "regression_model = LinearRegression()"
   ]
  },
  {
   "cell_type": "code",
   "execution_count": 189,
   "id": "2a80b0dd",
   "metadata": {},
   "outputs": [
    {
     "data": {
      "text/plain": [
       "LinearRegression()"
      ]
     },
     "execution_count": 189,
     "metadata": {},
     "output_type": "execute_result"
    }
   ],
   "source": [
    "# Train the regression model\n",
    "regression_model.fit(X_train, y_train)"
   ]
  },
  {
   "cell_type": "code",
   "execution_count": 190,
   "id": "4e4664d2",
   "metadata": {},
   "outputs": [],
   "source": [
    "# Make predictions on the testing set\n",
    "y_pred = regression_model.predict(X_test)"
   ]
  },
  {
   "cell_type": "code",
   "execution_count": 191,
   "id": "3cadb702",
   "metadata": {},
   "outputs": [
    {
     "name": "stdout",
     "output_type": "stream",
     "text": [
      "Mean Squared Error: 87.18056566698783\n"
     ]
    }
   ],
   "source": [
    "# Calculate the mean squared error\n",
    "mse = mean_squared_error(y_test, y_pred)\n",
    "print('Mean Squared Error:', mse)"
   ]
  },
  {
   "cell_type": "code",
   "execution_count": 192,
   "id": "e7ceefbb",
   "metadata": {},
   "outputs": [],
   "source": [
    "# Visualization on a map\n",
    "map_data = data[['latitude', 'longitude', 'price']]\n",
    "map_data['cluster'] = clusters"
   ]
  },
  {
   "cell_type": "code",
   "execution_count": 194,
   "id": "3f3d9dba",
   "metadata": {},
   "outputs": [],
   "source": [
    "# Create a map centered on the mean latitude and longitude\n",
    "map_center = [map_data['latitude'].mean(), map_data['longitude'].mean()]\n",
    "map = folium.Map(location=map_center, zoom_start=12)"
   ]
  },
  {
   "cell_type": "code",
   "execution_count": 106,
   "id": "d15e13bb",
   "metadata": {},
   "outputs": [],
   "source": [
    "# Add markers to the map for each data point\n",
    "for index, row in map_data.iterrows():\n",
    "    folium.Marker([row['latitude'], row['longitude']], popup=f\"Price: ${row['price']}\").add_to(map)\n",
    "\n",
    "# Display the map\n",
    "map.save('booking_areas_map.html')"
   ]
  },
  {
   "cell_type": "markdown",
   "id": "24d9f56e",
   "metadata": {},
   "source": [
    "### Q6 and Q7 \n",
    "I'm unable to provide answers to these questions."
   ]
  },
  {
   "cell_type": "markdown",
   "id": "18cc4b5b",
   "metadata": {},
   "source": [
    "### Q-8. Quora question pair similarity, you need to find the Similarity between two questions by mapping the words in the questions using TF-IDF, and using a supervised Algorithm you need to find the similarity between the questions."
   ]
  },
  {
   "cell_type": "code",
   "execution_count": 195,
   "id": "50d325ce",
   "metadata": {},
   "outputs": [
    {
     "name": "stderr",
     "output_type": "stream",
     "text": [
      "C:\\Users\\user\\anaconda3\\lib\\site-packages\\sklearn\\linear_model\\_logistic.py:814: ConvergenceWarning: lbfgs failed to converge (status=1):\n",
      "STOP: TOTAL NO. of ITERATIONS REACHED LIMIT.\n",
      "\n",
      "Increase the number of iterations (max_iter) or scale the data as shown in:\n",
      "    https://scikit-learn.org/stable/modules/preprocessing.html\n",
      "Please also refer to the documentation for alternative solver options:\n",
      "    https://scikit-learn.org/stable/modules/linear_model.html#logistic-regression\n",
      "  n_iter_i = _check_optimize_result(\n"
     ]
    },
    {
     "name": "stdout",
     "output_type": "stream",
     "text": [
      "Accuracy: 0.7517376140888966\n",
      "              precision    recall  f1-score   support\n",
      "\n",
      "           0       0.76      0.88      0.82     50803\n",
      "           1       0.73      0.53      0.61     30055\n",
      "\n",
      "    accuracy                           0.75     80858\n",
      "   macro avg       0.74      0.71      0.72     80858\n",
      "weighted avg       0.75      0.75      0.74     80858\n",
      "\n"
     ]
    }
   ],
   "source": [
    "import pandas as pd\n",
    "from sklearn.feature_extraction.text import TfidfVectorizer\n",
    "from sklearn.linear_model import LogisticRegression\n",
    "from sklearn.metrics import accuracy_score, classification_report\n",
    "from sklearn.metrics.pairwise import cosine_similarity\n",
    "from sklearn.model_selection import train_test_split\n",
    "import numpy as np\n",
    "\n",
    "# Load the dataset\n",
    "df8 = pd.read_csv(r'C:\\Users\\user\\Downloads\\train.csv\\train.csv')\n",
    "\n",
    "\n",
    "# Handle missing values\n",
    "df8['question1'].fillna('', inplace=True)\n",
    "df8['question2'].fillna('', inplace=True)\n",
    "\n",
    "\n",
    "# Preprocess the text data\n",
    "def preprocess(text):\n",
    "    # Convert to lowercase and remove punctuation\n",
    "    text = str(text).lower()\n",
    "    text = ''.join(c for c in text if c.isalnum() or c.isspace())\n",
    "    return text\n",
    "\n",
    "\n",
    "df8['question1'] = df8['question1'].apply(preprocess)\n",
    "df8['question2'] = df8['question2'].apply(preprocess)\n",
    "\n",
    "# Split the dataset into training and test sets\n",
    "X = df8[['question1', 'question2']]\n",
    "y = df8['is_duplicate']\n",
    "\n",
    "X_train, X_test, y_train, y_test = train_test_split(X, y, test_size=0.2, random_state=42)\n",
    "\n",
    "# Create TF-IDF vectorizer\n",
    "vectorizer = TfidfVectorizer(stop_words='english')\n",
    "\n",
    "# Compute TF-IDF representation\n",
    "X_train_tfidf = vectorizer.fit_transform(X_train['question1'] + ' ' + X_train['question2'])\n",
    "X_test_tfidf = vectorizer.transform(X_test['question1'] + ' ' + X_test['question2'])\n",
    "\n",
    "# Train a logistic regression model\n",
    "model = LogisticRegression()\n",
    "model.fit(X_train_tfidf, y_train)\n",
    "\n",
    "# Predict on the test set\n",
    "y_pred = model.predict(X_test_tfidf)\n",
    "\n",
    "# Evaluate the model\n",
    "accuracy = accuracy_score(y_test, y_pred)\n",
    "print('Accuracy:', accuracy)\n",
    "print(classification_report(y_test, y_pred))"
   ]
  },
  {
   "cell_type": "code",
   "execution_count": 196,
   "id": "622aa993",
   "metadata": {},
   "outputs": [],
   "source": [
    "# Compute cosine similarity between question pairs in batches\n",
    "batch_size = 1000\n",
    "num_samples = df8.shape[0]\n",
    "num_batches = int(np.ceil(num_samples / batch_size))\n",
    "similarity_scores = []"
   ]
  },
  {
   "cell_type": "code",
   "execution_count": 197,
   "id": "3d625a62",
   "metadata": {},
   "outputs": [],
   "source": [
    "for i in range(num_batches):\n",
    "    start_index = i * batch_size\n",
    "    end_index = min((i + 1) * batch_size, num_samples)\n",
    "    question_pairs = df8.loc[start_index:end_index, 'question1'] + ' ' + df8.loc[start_index:end_index, 'question2']\n",
    "    \n",
    "    if len(question_pairs) > 0:  # Check if there are samples in the batch\n",
    "        question_vectors = vectorizer.transform(question_pairs)\n",
    "        batch_scores = cosine_similarity(question_vectors)\n",
    "        similarity_scores.append(batch_scores)"
   ]
  },
  {
   "cell_type": "code",
   "execution_count": 198,
   "id": "b92647ed",
   "metadata": {},
   "outputs": [],
   "source": [
    "start_index = num_batches * batch_size\n",
    "end_index = num_samples\n",
    "\n",
    "if start_index < end_index:\n",
    "    question_pairs = df8.loc[start_index:end_index, 'question1'] + ' ' + df8.loc[start_index:end_index, 'question2']\n",
    "    question_vectors = vectorizer.transform(question_pairs)\n",
    "    batch_scores = cosine_similarity(question_vectors)\n",
    "    similarity_scores.append(batch_scores)"
   ]
  },
  {
   "cell_type": "code",
   "execution_count": null,
   "id": "46471d80",
   "metadata": {},
   "outputs": [],
   "source": [
    "import numpy as np\n",
    "\n",
    "if len(df8) > 0:\n",
    "    # Compute similarity scores in batches\n",
    "    batch_size = 1000\n",
    "    num_samples = len(df8)\n",
    "\n",
    "    similarity_scores = []\n",
    "    for start_index in range(0, num_samples, batch_size):\n",
    "        end_index = min(start_index + batch_size, num_samples)\n",
    "\n",
    "        # Compute similarity scores for the current batch\n",
    "        question_vectors = vectorizer.transform(df8.loc[start_index:end_index, 'question1'] + ' ' +\n",
    "                                                df8.loc[start_index:end_index, 'question2'])\n",
    "        batch_scores = cosine_similarity(question_vectors)\n",
    "        similarity_scores.append(batch_scores)\n",
    "\n",
    "    if similarity_scores:\n",
    "        # Concatenate similarity scores from all batches\n",
    "        similarity_scores = np.concatenate(similarity_scores, axis=0)\n",
    "\n",
    "        # Print similarity scores for the first 10 question pairs\n",
    "        for i in range(10):\n",
    "            print(f\"Question Pair {i+1}: {similarity_scores[i]}\")\n",
    "    else:\n",
    "        print(\"No similarity scores available.\")\n",
    "else:\n",
    "    print(\"No question pairs available.\")"
   ]
  },
  {
   "cell_type": "markdown",
   "id": "69d86b6c",
   "metadata": {},
   "source": [
    "### Q-9. A cyber security agent wants to check the Microsoft Malware so need he came to you as a Machine learning Engineering with Data, You need to find the Malware using a supervised algorithm and you need to find the accuracy of the model. Dataset This is the Dataset You can use this dataset for this question."
   ]
  },
  {
   "cell_type": "code",
   "execution_count": null,
   "id": "ad703762",
   "metadata": {},
   "outputs": [],
   "source": [
    "import pandas as pd\n",
    "from sklearn.model_selection import train_test_split\n",
    "from sklearn.ensemble import RandomForestClassifier\n",
    "from sklearn.metrics import accuracy_score\n",
    "from sklearn.preprocessing import LabelEncoder"
   ]
  },
  {
   "cell_type": "code",
   "execution_count": 41,
   "id": "8b3ab45c",
   "metadata": {},
   "outputs": [],
   "source": [
    "df=pd.read_csv(r\"C:\\Users\\user\\Downloads\\test.csv\\test.csv\",nrows=10000)"
   ]
  },
  {
   "cell_type": "code",
   "execution_count": 42,
   "id": "6d5a6ed5",
   "metadata": {},
   "outputs": [
    {
     "data": {
      "text/html": [
       "<div>\n",
       "<style scoped>\n",
       "    .dataframe tbody tr th:only-of-type {\n",
       "        vertical-align: middle;\n",
       "    }\n",
       "\n",
       "    .dataframe tbody tr th {\n",
       "        vertical-align: top;\n",
       "    }\n",
       "\n",
       "    .dataframe thead th {\n",
       "        text-align: right;\n",
       "    }\n",
       "</style>\n",
       "<table border=\"1\" class=\"dataframe\">\n",
       "  <thead>\n",
       "    <tr style=\"text-align: right;\">\n",
       "      <th></th>\n",
       "      <th>MachineIdentifier</th>\n",
       "      <th>ProductName</th>\n",
       "      <th>EngineVersion</th>\n",
       "      <th>AppVersion</th>\n",
       "      <th>AvSigVersion</th>\n",
       "      <th>IsBeta</th>\n",
       "      <th>RtpStateBitfield</th>\n",
       "      <th>IsSxsPassiveMode</th>\n",
       "      <th>DefaultBrowsersIdentifier</th>\n",
       "      <th>AVProductStatesIdentifier</th>\n",
       "      <th>...</th>\n",
       "      <th>Census_FirmwareManufacturerIdentifier</th>\n",
       "      <th>Census_FirmwareVersionIdentifier</th>\n",
       "      <th>Census_IsSecureBootEnabled</th>\n",
       "      <th>Census_IsWIMBootEnabled</th>\n",
       "      <th>Census_IsVirtualDevice</th>\n",
       "      <th>Census_IsTouchEnabled</th>\n",
       "      <th>Census_IsPenCapable</th>\n",
       "      <th>Census_IsAlwaysOnAlwaysConnectedCapable</th>\n",
       "      <th>Wdft_IsGamer</th>\n",
       "      <th>Wdft_RegionIdentifier</th>\n",
       "    </tr>\n",
       "  </thead>\n",
       "  <tbody>\n",
       "    <tr>\n",
       "      <th>0</th>\n",
       "      <td>0000010489e3af074adeac69c53e555e</td>\n",
       "      <td>win8defender</td>\n",
       "      <td>1.1.15400.5</td>\n",
       "      <td>4.18.1810.5</td>\n",
       "      <td>1.281.501.0</td>\n",
       "      <td>0</td>\n",
       "      <td>7.0</td>\n",
       "      <td>0</td>\n",
       "      <td>NaN</td>\n",
       "      <td>53447.0</td>\n",
       "      <td>...</td>\n",
       "      <td>807.0</td>\n",
       "      <td>8554.0</td>\n",
       "      <td>1</td>\n",
       "      <td>NaN</td>\n",
       "      <td>0.0</td>\n",
       "      <td>0</td>\n",
       "      <td>0</td>\n",
       "      <td>0.0</td>\n",
       "      <td>0.0</td>\n",
       "      <td>7.0</td>\n",
       "    </tr>\n",
       "    <tr>\n",
       "      <th>1</th>\n",
       "      <td>00000176ac758d54827acd545b6315a5</td>\n",
       "      <td>win8defender</td>\n",
       "      <td>1.1.15400.4</td>\n",
       "      <td>4.18.1809.2</td>\n",
       "      <td>1.279.301.0</td>\n",
       "      <td>0</td>\n",
       "      <td>7.0</td>\n",
       "      <td>0</td>\n",
       "      <td>NaN</td>\n",
       "      <td>53447.0</td>\n",
       "      <td>...</td>\n",
       "      <td>554.0</td>\n",
       "      <td>33105.0</td>\n",
       "      <td>1</td>\n",
       "      <td>NaN</td>\n",
       "      <td>0.0</td>\n",
       "      <td>0</td>\n",
       "      <td>0</td>\n",
       "      <td>0.0</td>\n",
       "      <td>1.0</td>\n",
       "      <td>12.0</td>\n",
       "    </tr>\n",
       "    <tr>\n",
       "      <th>2</th>\n",
       "      <td>0000019dcefc128c2d4387c1273dae1d</td>\n",
       "      <td>win8defender</td>\n",
       "      <td>1.1.15300.6</td>\n",
       "      <td>4.18.1809.2</td>\n",
       "      <td>1.277.230.0</td>\n",
       "      <td>0</td>\n",
       "      <td>7.0</td>\n",
       "      <td>0</td>\n",
       "      <td>NaN</td>\n",
       "      <td>49480.0</td>\n",
       "      <td>...</td>\n",
       "      <td>556.0</td>\n",
       "      <td>63396.0</td>\n",
       "      <td>1</td>\n",
       "      <td>NaN</td>\n",
       "      <td>0.0</td>\n",
       "      <td>0</td>\n",
       "      <td>0</td>\n",
       "      <td>0.0</td>\n",
       "      <td>1.0</td>\n",
       "      <td>11.0</td>\n",
       "    </tr>\n",
       "    <tr>\n",
       "      <th>3</th>\n",
       "      <td>0000055553dc51b1295785415f1a224d</td>\n",
       "      <td>win8defender</td>\n",
       "      <td>1.1.15400.5</td>\n",
       "      <td>4.18.1810.5</td>\n",
       "      <td>1.281.664.0</td>\n",
       "      <td>0</td>\n",
       "      <td>7.0</td>\n",
       "      <td>0</td>\n",
       "      <td>NaN</td>\n",
       "      <td>42160.0</td>\n",
       "      <td>...</td>\n",
       "      <td>628.0</td>\n",
       "      <td>26320.0</td>\n",
       "      <td>1</td>\n",
       "      <td>0.0</td>\n",
       "      <td>0.0</td>\n",
       "      <td>0</td>\n",
       "      <td>0</td>\n",
       "      <td>0.0</td>\n",
       "      <td>0.0</td>\n",
       "      <td>10.0</td>\n",
       "    </tr>\n",
       "    <tr>\n",
       "      <th>4</th>\n",
       "      <td>00000574cefffeca83ec8adf9285b2bf</td>\n",
       "      <td>win8defender</td>\n",
       "      <td>1.1.15400.4</td>\n",
       "      <td>4.18.1809.2</td>\n",
       "      <td>1.279.236.0</td>\n",
       "      <td>0</td>\n",
       "      <td>7.0</td>\n",
       "      <td>0</td>\n",
       "      <td>NaN</td>\n",
       "      <td>53447.0</td>\n",
       "      <td>...</td>\n",
       "      <td>556.0</td>\n",
       "      <td>63269.0</td>\n",
       "      <td>1</td>\n",
       "      <td>NaN</td>\n",
       "      <td>0.0</td>\n",
       "      <td>0</td>\n",
       "      <td>0</td>\n",
       "      <td>0.0</td>\n",
       "      <td>1.0</td>\n",
       "      <td>3.0</td>\n",
       "    </tr>\n",
       "    <tr>\n",
       "      <th>...</th>\n",
       "      <td>...</td>\n",
       "      <td>...</td>\n",
       "      <td>...</td>\n",
       "      <td>...</td>\n",
       "      <td>...</td>\n",
       "      <td>...</td>\n",
       "      <td>...</td>\n",
       "      <td>...</td>\n",
       "      <td>...</td>\n",
       "      <td>...</td>\n",
       "      <td>...</td>\n",
       "      <td>...</td>\n",
       "      <td>...</td>\n",
       "      <td>...</td>\n",
       "      <td>...</td>\n",
       "      <td>...</td>\n",
       "      <td>...</td>\n",
       "      <td>...</td>\n",
       "      <td>...</td>\n",
       "      <td>...</td>\n",
       "      <td>...</td>\n",
       "    </tr>\n",
       "    <tr>\n",
       "      <th>9995</th>\n",
       "      <td>00542aa1c02c1cd7a294fcd5855ec7b1</td>\n",
       "      <td>win8defender</td>\n",
       "      <td>1.1.15400.5</td>\n",
       "      <td>4.18.1810.5</td>\n",
       "      <td>1.281.739.0</td>\n",
       "      <td>0</td>\n",
       "      <td>7.0</td>\n",
       "      <td>0</td>\n",
       "      <td>NaN</td>\n",
       "      <td>53447.0</td>\n",
       "      <td>...</td>\n",
       "      <td>142.0</td>\n",
       "      <td>36040.0</td>\n",
       "      <td>0</td>\n",
       "      <td>NaN</td>\n",
       "      <td>0.0</td>\n",
       "      <td>0</td>\n",
       "      <td>0</td>\n",
       "      <td>0.0</td>\n",
       "      <td>1.0</td>\n",
       "      <td>10.0</td>\n",
       "    </tr>\n",
       "    <tr>\n",
       "      <th>9996</th>\n",
       "      <td>00542ecac165330342379e1fa24f454c</td>\n",
       "      <td>win8defender</td>\n",
       "      <td>1.1.15400.4</td>\n",
       "      <td>4.18.1810.5</td>\n",
       "      <td>1.279.516.0</td>\n",
       "      <td>0</td>\n",
       "      <td>7.0</td>\n",
       "      <td>0</td>\n",
       "      <td>NaN</td>\n",
       "      <td>53447.0</td>\n",
       "      <td>...</td>\n",
       "      <td>554.0</td>\n",
       "      <td>33084.0</td>\n",
       "      <td>1</td>\n",
       "      <td>NaN</td>\n",
       "      <td>0.0</td>\n",
       "      <td>0</td>\n",
       "      <td>0</td>\n",
       "      <td>0.0</td>\n",
       "      <td>0.0</td>\n",
       "      <td>10.0</td>\n",
       "    </tr>\n",
       "    <tr>\n",
       "      <th>9997</th>\n",
       "      <td>00543035b5e914e6f9fd1bd00d302ca8</td>\n",
       "      <td>win8defender</td>\n",
       "      <td>1.1.15300.6</td>\n",
       "      <td>4.13.17134.228</td>\n",
       "      <td>1.277.503.0</td>\n",
       "      <td>0</td>\n",
       "      <td>7.0</td>\n",
       "      <td>0</td>\n",
       "      <td>NaN</td>\n",
       "      <td>41571.0</td>\n",
       "      <td>...</td>\n",
       "      <td>355.0</td>\n",
       "      <td>9323.0</td>\n",
       "      <td>0</td>\n",
       "      <td>NaN</td>\n",
       "      <td>0.0</td>\n",
       "      <td>0</td>\n",
       "      <td>0</td>\n",
       "      <td>0.0</td>\n",
       "      <td>0.0</td>\n",
       "      <td>11.0</td>\n",
       "    </tr>\n",
       "    <tr>\n",
       "      <th>9998</th>\n",
       "      <td>00543193d0b2c610fee3dc442f7dc7da</td>\n",
       "      <td>win8defender</td>\n",
       "      <td>1.1.15300.6</td>\n",
       "      <td>4.9.10586.0</td>\n",
       "      <td>1.277.1212.0</td>\n",
       "      <td>0</td>\n",
       "      <td>7.0</td>\n",
       "      <td>0</td>\n",
       "      <td>NaN</td>\n",
       "      <td>53447.0</td>\n",
       "      <td>...</td>\n",
       "      <td>500.0</td>\n",
       "      <td>14862.0</td>\n",
       "      <td>0</td>\n",
       "      <td>0.0</td>\n",
       "      <td>0.0</td>\n",
       "      <td>0</td>\n",
       "      <td>0</td>\n",
       "      <td>0.0</td>\n",
       "      <td>0.0</td>\n",
       "      <td>3.0</td>\n",
       "    </tr>\n",
       "    <tr>\n",
       "      <th>9999</th>\n",
       "      <td>00543329af9a71188a8d8d061129193c</td>\n",
       "      <td>win8defender</td>\n",
       "      <td>1.1.15300.6</td>\n",
       "      <td>4.18.1809.2</td>\n",
       "      <td>1.277.1044.0</td>\n",
       "      <td>0</td>\n",
       "      <td>7.0</td>\n",
       "      <td>0</td>\n",
       "      <td>NaN</td>\n",
       "      <td>53447.0</td>\n",
       "      <td>...</td>\n",
       "      <td>554.0</td>\n",
       "      <td>33198.0</td>\n",
       "      <td>0</td>\n",
       "      <td>0.0</td>\n",
       "      <td>0.0</td>\n",
       "      <td>0</td>\n",
       "      <td>0</td>\n",
       "      <td>0.0</td>\n",
       "      <td>0.0</td>\n",
       "      <td>3.0</td>\n",
       "    </tr>\n",
       "  </tbody>\n",
       "</table>\n",
       "<p>10000 rows × 82 columns</p>\n",
       "</div>"
      ],
      "text/plain": [
       "                     MachineIdentifier   ProductName EngineVersion  \\\n",
       "0     0000010489e3af074adeac69c53e555e  win8defender   1.1.15400.5   \n",
       "1     00000176ac758d54827acd545b6315a5  win8defender   1.1.15400.4   \n",
       "2     0000019dcefc128c2d4387c1273dae1d  win8defender   1.1.15300.6   \n",
       "3     0000055553dc51b1295785415f1a224d  win8defender   1.1.15400.5   \n",
       "4     00000574cefffeca83ec8adf9285b2bf  win8defender   1.1.15400.4   \n",
       "...                                ...           ...           ...   \n",
       "9995  00542aa1c02c1cd7a294fcd5855ec7b1  win8defender   1.1.15400.5   \n",
       "9996  00542ecac165330342379e1fa24f454c  win8defender   1.1.15400.4   \n",
       "9997  00543035b5e914e6f9fd1bd00d302ca8  win8defender   1.1.15300.6   \n",
       "9998  00543193d0b2c610fee3dc442f7dc7da  win8defender   1.1.15300.6   \n",
       "9999  00543329af9a71188a8d8d061129193c  win8defender   1.1.15300.6   \n",
       "\n",
       "          AppVersion  AvSigVersion  IsBeta  RtpStateBitfield  \\\n",
       "0        4.18.1810.5   1.281.501.0       0               7.0   \n",
       "1        4.18.1809.2   1.279.301.0       0               7.0   \n",
       "2        4.18.1809.2   1.277.230.0       0               7.0   \n",
       "3        4.18.1810.5   1.281.664.0       0               7.0   \n",
       "4        4.18.1809.2   1.279.236.0       0               7.0   \n",
       "...              ...           ...     ...               ...   \n",
       "9995     4.18.1810.5   1.281.739.0       0               7.0   \n",
       "9996     4.18.1810.5   1.279.516.0       0               7.0   \n",
       "9997  4.13.17134.228   1.277.503.0       0               7.0   \n",
       "9998     4.9.10586.0  1.277.1212.0       0               7.0   \n",
       "9999     4.18.1809.2  1.277.1044.0       0               7.0   \n",
       "\n",
       "      IsSxsPassiveMode  DefaultBrowsersIdentifier  AVProductStatesIdentifier  \\\n",
       "0                    0                        NaN                    53447.0   \n",
       "1                    0                        NaN                    53447.0   \n",
       "2                    0                        NaN                    49480.0   \n",
       "3                    0                        NaN                    42160.0   \n",
       "4                    0                        NaN                    53447.0   \n",
       "...                ...                        ...                        ...   \n",
       "9995                 0                        NaN                    53447.0   \n",
       "9996                 0                        NaN                    53447.0   \n",
       "9997                 0                        NaN                    41571.0   \n",
       "9998                 0                        NaN                    53447.0   \n",
       "9999                 0                        NaN                    53447.0   \n",
       "\n",
       "      ...  Census_FirmwareManufacturerIdentifier  \\\n",
       "0     ...                                  807.0   \n",
       "1     ...                                  554.0   \n",
       "2     ...                                  556.0   \n",
       "3     ...                                  628.0   \n",
       "4     ...                                  556.0   \n",
       "...   ...                                    ...   \n",
       "9995  ...                                  142.0   \n",
       "9996  ...                                  554.0   \n",
       "9997  ...                                  355.0   \n",
       "9998  ...                                  500.0   \n",
       "9999  ...                                  554.0   \n",
       "\n",
       "      Census_FirmwareVersionIdentifier  Census_IsSecureBootEnabled  \\\n",
       "0                               8554.0                           1   \n",
       "1                              33105.0                           1   \n",
       "2                              63396.0                           1   \n",
       "3                              26320.0                           1   \n",
       "4                              63269.0                           1   \n",
       "...                                ...                         ...   \n",
       "9995                           36040.0                           0   \n",
       "9996                           33084.0                           1   \n",
       "9997                            9323.0                           0   \n",
       "9998                           14862.0                           0   \n",
       "9999                           33198.0                           0   \n",
       "\n",
       "      Census_IsWIMBootEnabled  Census_IsVirtualDevice  Census_IsTouchEnabled  \\\n",
       "0                         NaN                     0.0                      0   \n",
       "1                         NaN                     0.0                      0   \n",
       "2                         NaN                     0.0                      0   \n",
       "3                         0.0                     0.0                      0   \n",
       "4                         NaN                     0.0                      0   \n",
       "...                       ...                     ...                    ...   \n",
       "9995                      NaN                     0.0                      0   \n",
       "9996                      NaN                     0.0                      0   \n",
       "9997                      NaN                     0.0                      0   \n",
       "9998                      0.0                     0.0                      0   \n",
       "9999                      0.0                     0.0                      0   \n",
       "\n",
       "      Census_IsPenCapable  Census_IsAlwaysOnAlwaysConnectedCapable  \\\n",
       "0                       0                                      0.0   \n",
       "1                       0                                      0.0   \n",
       "2                       0                                      0.0   \n",
       "3                       0                                      0.0   \n",
       "4                       0                                      0.0   \n",
       "...                   ...                                      ...   \n",
       "9995                    0                                      0.0   \n",
       "9996                    0                                      0.0   \n",
       "9997                    0                                      0.0   \n",
       "9998                    0                                      0.0   \n",
       "9999                    0                                      0.0   \n",
       "\n",
       "     Wdft_IsGamer Wdft_RegionIdentifier  \n",
       "0             0.0                   7.0  \n",
       "1             1.0                  12.0  \n",
       "2             1.0                  11.0  \n",
       "3             0.0                  10.0  \n",
       "4             1.0                   3.0  \n",
       "...           ...                   ...  \n",
       "9995          1.0                  10.0  \n",
       "9996          0.0                  10.0  \n",
       "9997          0.0                  11.0  \n",
       "9998          0.0                   3.0  \n",
       "9999          0.0                   3.0  \n",
       "\n",
       "[10000 rows x 82 columns]"
      ]
     },
     "execution_count": 42,
     "metadata": {},
     "output_type": "execute_result"
    }
   ],
   "source": [
    "df"
   ]
  },
  {
   "cell_type": "code",
   "execution_count": 44,
   "id": "9f5cd4dc",
   "metadata": {},
   "outputs": [],
   "source": [
    "# Remove any columns that are not relevant for malware detection\n",
    "data = df.drop(['MachineIdentifier', 'DefaultBrowsersIdentifier'], axis=1)"
   ]
  },
  {
   "cell_type": "code",
   "execution_count": 45,
   "id": "8c3cf5c6",
   "metadata": {},
   "outputs": [],
   "source": [
    "data.fillna(0, inplace=True)"
   ]
  },
  {
   "cell_type": "code",
   "execution_count": 46,
   "id": "0ad587cf",
   "metadata": {},
   "outputs": [],
   "source": [
    "# Convert categorical variables to numerical using label encoding\n",
    "label_encoder = LabelEncoder()\n",
    "for column in data.columns:\n",
    "    if data[column].dtype == 'object':\n",
    "        data[column] = label_encoder.fit_transform(data[column].astype(str))"
   ]
  },
  {
   "cell_type": "code",
   "execution_count": 47,
   "id": "76c2e7e7",
   "metadata": {},
   "outputs": [],
   "source": [
    "# Split the data into features (X) and target variable (y)\n",
    "X = data.drop('ProductName', axis=1)\n",
    "y = data['ProductName']"
   ]
  },
  {
   "cell_type": "code",
   "execution_count": 48,
   "id": "49ee4194",
   "metadata": {},
   "outputs": [],
   "source": [
    "# Split the data into training and testing sets\n",
    "X_train, X_test, y_train, y_test = train_test_split(X, y, test_size=0.2, random_state=42)"
   ]
  },
  {
   "cell_type": "code",
   "execution_count": 49,
   "id": "1ebf07e3",
   "metadata": {},
   "outputs": [],
   "source": [
    "# Create a random forest classifier\n",
    "classifier = RandomForestClassifier()"
   ]
  },
  {
   "cell_type": "code",
   "execution_count": 50,
   "id": "d0d1daa9",
   "metadata": {},
   "outputs": [
    {
     "data": {
      "text/plain": [
       "RandomForestClassifier()"
      ]
     },
     "execution_count": 50,
     "metadata": {},
     "output_type": "execute_result"
    }
   ],
   "source": [
    "# Train the classifier\n",
    "classifier.fit(X_train, y_train)"
   ]
  },
  {
   "cell_type": "code",
   "execution_count": 51,
   "id": "560aa675",
   "metadata": {},
   "outputs": [],
   "source": [
    "# Make predictions on the test set\n",
    "y_pred = classifier.predict(X_test)"
   ]
  },
  {
   "cell_type": "code",
   "execution_count": 52,
   "id": "577e8bed",
   "metadata": {},
   "outputs": [
    {
     "name": "stdout",
     "output_type": "stream",
     "text": [
      "Accuracy: 0.9995\n"
     ]
    }
   ],
   "source": [
    "# Calculate the accuracy of the model\n",
    "accuracy = accuracy_score(y_test, y_pred)\n",
    "print(\"Accuracy:\", accuracy)\n"
   ]
  },
  {
   "cell_type": "markdown",
   "id": "17301576",
   "metadata": {},
   "source": [
    "### Q-10. An Ad- Agency analyzed a dataset of online ads and used a machine learning model to predict whether a user would click on an ad or not. Dataset This is the Dataset You can use this dataset for this question."
   ]
  },
  {
   "cell_type": "code",
   "execution_count": null,
   "id": "72912eef",
   "metadata": {},
   "outputs": [],
   "source": [
    "import pandas as pd\n",
    "\n",
    "# Specify the file path of the gzipped file\n",
    "file_path = r'C:\\Users\\user\\Downloads\\train.gz'\n",
    "\n",
    "# Read the gzipped file into a DataFrame\n",
    "df = pd.read_csv(file_path, compression='gzip',nrows=10000)\n",
    "\n",
    "# Now you can work with the DataFrame 'df' as needed"
   ]
  },
  {
   "cell_type": "code",
   "execution_count": 27,
   "id": "c4408e73",
   "metadata": {},
   "outputs": [],
   "source": [
    "from sklearn.model_selection import train_test_split\n",
    "from sklearn.linear_model import LogisticRegression\n",
    "from sklearn.metrics import accuracy_score"
   ]
  },
  {
   "cell_type": "code",
   "execution_count": 29,
   "id": "aa374eb3",
   "metadata": {},
   "outputs": [
    {
     "data": {
      "text/html": [
       "<div>\n",
       "<style scoped>\n",
       "    .dataframe tbody tr th:only-of-type {\n",
       "        vertical-align: middle;\n",
       "    }\n",
       "\n",
       "    .dataframe tbody tr th {\n",
       "        vertical-align: top;\n",
       "    }\n",
       "\n",
       "    .dataframe thead th {\n",
       "        text-align: right;\n",
       "    }\n",
       "</style>\n",
       "<table border=\"1\" class=\"dataframe\">\n",
       "  <thead>\n",
       "    <tr style=\"text-align: right;\">\n",
       "      <th></th>\n",
       "      <th>id</th>\n",
       "      <th>click</th>\n",
       "      <th>hour</th>\n",
       "      <th>C1</th>\n",
       "      <th>banner_pos</th>\n",
       "      <th>site_id</th>\n",
       "      <th>site_domain</th>\n",
       "      <th>site_category</th>\n",
       "      <th>app_id</th>\n",
       "      <th>app_domain</th>\n",
       "      <th>...</th>\n",
       "      <th>device_type</th>\n",
       "      <th>device_conn_type</th>\n",
       "      <th>C14</th>\n",
       "      <th>C15</th>\n",
       "      <th>C16</th>\n",
       "      <th>C17</th>\n",
       "      <th>C18</th>\n",
       "      <th>C19</th>\n",
       "      <th>C20</th>\n",
       "      <th>C21</th>\n",
       "    </tr>\n",
       "  </thead>\n",
       "  <tbody>\n",
       "    <tr>\n",
       "      <th>0</th>\n",
       "      <td>1000009418151094273</td>\n",
       "      <td>0</td>\n",
       "      <td>14102100</td>\n",
       "      <td>1005</td>\n",
       "      <td>0</td>\n",
       "      <td>1fbe01fe</td>\n",
       "      <td>f3845767</td>\n",
       "      <td>28905ebd</td>\n",
       "      <td>ecad2386</td>\n",
       "      <td>7801e8d9</td>\n",
       "      <td>...</td>\n",
       "      <td>1</td>\n",
       "      <td>2</td>\n",
       "      <td>15706</td>\n",
       "      <td>320</td>\n",
       "      <td>50</td>\n",
       "      <td>1722</td>\n",
       "      <td>0</td>\n",
       "      <td>35</td>\n",
       "      <td>-1</td>\n",
       "      <td>79</td>\n",
       "    </tr>\n",
       "    <tr>\n",
       "      <th>1</th>\n",
       "      <td>10000169349117863715</td>\n",
       "      <td>0</td>\n",
       "      <td>14102100</td>\n",
       "      <td>1005</td>\n",
       "      <td>0</td>\n",
       "      <td>1fbe01fe</td>\n",
       "      <td>f3845767</td>\n",
       "      <td>28905ebd</td>\n",
       "      <td>ecad2386</td>\n",
       "      <td>7801e8d9</td>\n",
       "      <td>...</td>\n",
       "      <td>1</td>\n",
       "      <td>0</td>\n",
       "      <td>15704</td>\n",
       "      <td>320</td>\n",
       "      <td>50</td>\n",
       "      <td>1722</td>\n",
       "      <td>0</td>\n",
       "      <td>35</td>\n",
       "      <td>100084</td>\n",
       "      <td>79</td>\n",
       "    </tr>\n",
       "    <tr>\n",
       "      <th>2</th>\n",
       "      <td>10000371904215119486</td>\n",
       "      <td>0</td>\n",
       "      <td>14102100</td>\n",
       "      <td>1005</td>\n",
       "      <td>0</td>\n",
       "      <td>1fbe01fe</td>\n",
       "      <td>f3845767</td>\n",
       "      <td>28905ebd</td>\n",
       "      <td>ecad2386</td>\n",
       "      <td>7801e8d9</td>\n",
       "      <td>...</td>\n",
       "      <td>1</td>\n",
       "      <td>0</td>\n",
       "      <td>15704</td>\n",
       "      <td>320</td>\n",
       "      <td>50</td>\n",
       "      <td>1722</td>\n",
       "      <td>0</td>\n",
       "      <td>35</td>\n",
       "      <td>100084</td>\n",
       "      <td>79</td>\n",
       "    </tr>\n",
       "    <tr>\n",
       "      <th>3</th>\n",
       "      <td>10000640724480838376</td>\n",
       "      <td>0</td>\n",
       "      <td>14102100</td>\n",
       "      <td>1005</td>\n",
       "      <td>0</td>\n",
       "      <td>1fbe01fe</td>\n",
       "      <td>f3845767</td>\n",
       "      <td>28905ebd</td>\n",
       "      <td>ecad2386</td>\n",
       "      <td>7801e8d9</td>\n",
       "      <td>...</td>\n",
       "      <td>1</td>\n",
       "      <td>0</td>\n",
       "      <td>15706</td>\n",
       "      <td>320</td>\n",
       "      <td>50</td>\n",
       "      <td>1722</td>\n",
       "      <td>0</td>\n",
       "      <td>35</td>\n",
       "      <td>100084</td>\n",
       "      <td>79</td>\n",
       "    </tr>\n",
       "    <tr>\n",
       "      <th>4</th>\n",
       "      <td>10000679056417042096</td>\n",
       "      <td>0</td>\n",
       "      <td>14102100</td>\n",
       "      <td>1005</td>\n",
       "      <td>1</td>\n",
       "      <td>fe8cc448</td>\n",
       "      <td>9166c161</td>\n",
       "      <td>0569f928</td>\n",
       "      <td>ecad2386</td>\n",
       "      <td>7801e8d9</td>\n",
       "      <td>...</td>\n",
       "      <td>1</td>\n",
       "      <td>0</td>\n",
       "      <td>18993</td>\n",
       "      <td>320</td>\n",
       "      <td>50</td>\n",
       "      <td>2161</td>\n",
       "      <td>0</td>\n",
       "      <td>35</td>\n",
       "      <td>-1</td>\n",
       "      <td>157</td>\n",
       "    </tr>\n",
       "    <tr>\n",
       "      <th>...</th>\n",
       "      <td>...</td>\n",
       "      <td>...</td>\n",
       "      <td>...</td>\n",
       "      <td>...</td>\n",
       "      <td>...</td>\n",
       "      <td>...</td>\n",
       "      <td>...</td>\n",
       "      <td>...</td>\n",
       "      <td>...</td>\n",
       "      <td>...</td>\n",
       "      <td>...</td>\n",
       "      <td>...</td>\n",
       "      <td>...</td>\n",
       "      <td>...</td>\n",
       "      <td>...</td>\n",
       "      <td>...</td>\n",
       "      <td>...</td>\n",
       "      <td>...</td>\n",
       "      <td>...</td>\n",
       "      <td>...</td>\n",
       "      <td>...</td>\n",
       "    </tr>\n",
       "    <tr>\n",
       "      <th>9995</th>\n",
       "      <td>11384293714617058397</td>\n",
       "      <td>0</td>\n",
       "      <td>14102100</td>\n",
       "      <td>1005</td>\n",
       "      <td>0</td>\n",
       "      <td>6c5b482c</td>\n",
       "      <td>7687a86e</td>\n",
       "      <td>3e814130</td>\n",
       "      <td>ecad2386</td>\n",
       "      <td>7801e8d9</td>\n",
       "      <td>...</td>\n",
       "      <td>1</td>\n",
       "      <td>0</td>\n",
       "      <td>17654</td>\n",
       "      <td>300</td>\n",
       "      <td>250</td>\n",
       "      <td>1994</td>\n",
       "      <td>2</td>\n",
       "      <td>39</td>\n",
       "      <td>100083</td>\n",
       "      <td>33</td>\n",
       "    </tr>\n",
       "    <tr>\n",
       "      <th>9996</th>\n",
       "      <td>11384401992895341158</td>\n",
       "      <td>1</td>\n",
       "      <td>14102100</td>\n",
       "      <td>1005</td>\n",
       "      <td>0</td>\n",
       "      <td>1fbe01fe</td>\n",
       "      <td>f3845767</td>\n",
       "      <td>28905ebd</td>\n",
       "      <td>ecad2386</td>\n",
       "      <td>7801e8d9</td>\n",
       "      <td>...</td>\n",
       "      <td>1</td>\n",
       "      <td>0</td>\n",
       "      <td>15701</td>\n",
       "      <td>320</td>\n",
       "      <td>50</td>\n",
       "      <td>1722</td>\n",
       "      <td>0</td>\n",
       "      <td>35</td>\n",
       "      <td>-1</td>\n",
       "      <td>79</td>\n",
       "    </tr>\n",
       "    <tr>\n",
       "      <th>9997</th>\n",
       "      <td>11384416194059429451</td>\n",
       "      <td>1</td>\n",
       "      <td>14102100</td>\n",
       "      <td>1005</td>\n",
       "      <td>1</td>\n",
       "      <td>5ee41ff2</td>\n",
       "      <td>17d996e6</td>\n",
       "      <td>f028772b</td>\n",
       "      <td>ecad2386</td>\n",
       "      <td>7801e8d9</td>\n",
       "      <td>...</td>\n",
       "      <td>1</td>\n",
       "      <td>0</td>\n",
       "      <td>16920</td>\n",
       "      <td>320</td>\n",
       "      <td>50</td>\n",
       "      <td>1899</td>\n",
       "      <td>0</td>\n",
       "      <td>431</td>\n",
       "      <td>-1</td>\n",
       "      <td>117</td>\n",
       "    </tr>\n",
       "    <tr>\n",
       "      <th>9998</th>\n",
       "      <td>11384658010851781062</td>\n",
       "      <td>0</td>\n",
       "      <td>14102100</td>\n",
       "      <td>1005</td>\n",
       "      <td>0</td>\n",
       "      <td>85f751fd</td>\n",
       "      <td>c4e18dd6</td>\n",
       "      <td>50e219e0</td>\n",
       "      <td>5e3f096f</td>\n",
       "      <td>2347f47a</td>\n",
       "      <td>...</td>\n",
       "      <td>1</td>\n",
       "      <td>0</td>\n",
       "      <td>21611</td>\n",
       "      <td>320</td>\n",
       "      <td>50</td>\n",
       "      <td>2480</td>\n",
       "      <td>3</td>\n",
       "      <td>297</td>\n",
       "      <td>100111</td>\n",
       "      <td>61</td>\n",
       "    </tr>\n",
       "    <tr>\n",
       "      <th>9999</th>\n",
       "      <td>11385134388253617231</td>\n",
       "      <td>0</td>\n",
       "      <td>14102100</td>\n",
       "      <td>1005</td>\n",
       "      <td>0</td>\n",
       "      <td>83a0ad1a</td>\n",
       "      <td>5c9ae867</td>\n",
       "      <td>f028772b</td>\n",
       "      <td>ecad2386</td>\n",
       "      <td>7801e8d9</td>\n",
       "      <td>...</td>\n",
       "      <td>1</td>\n",
       "      <td>0</td>\n",
       "      <td>18945</td>\n",
       "      <td>320</td>\n",
       "      <td>50</td>\n",
       "      <td>2153</td>\n",
       "      <td>3</td>\n",
       "      <td>427</td>\n",
       "      <td>100063</td>\n",
       "      <td>61</td>\n",
       "    </tr>\n",
       "  </tbody>\n",
       "</table>\n",
       "<p>10000 rows × 24 columns</p>\n",
       "</div>"
      ],
      "text/plain": [
       "                        id  click      hour    C1  banner_pos   site_id  \\\n",
       "0      1000009418151094273      0  14102100  1005           0  1fbe01fe   \n",
       "1     10000169349117863715      0  14102100  1005           0  1fbe01fe   \n",
       "2     10000371904215119486      0  14102100  1005           0  1fbe01fe   \n",
       "3     10000640724480838376      0  14102100  1005           0  1fbe01fe   \n",
       "4     10000679056417042096      0  14102100  1005           1  fe8cc448   \n",
       "...                    ...    ...       ...   ...         ...       ...   \n",
       "9995  11384293714617058397      0  14102100  1005           0  6c5b482c   \n",
       "9996  11384401992895341158      1  14102100  1005           0  1fbe01fe   \n",
       "9997  11384416194059429451      1  14102100  1005           1  5ee41ff2   \n",
       "9998  11384658010851781062      0  14102100  1005           0  85f751fd   \n",
       "9999  11385134388253617231      0  14102100  1005           0  83a0ad1a   \n",
       "\n",
       "     site_domain site_category    app_id app_domain  ... device_type  \\\n",
       "0       f3845767      28905ebd  ecad2386   7801e8d9  ...           1   \n",
       "1       f3845767      28905ebd  ecad2386   7801e8d9  ...           1   \n",
       "2       f3845767      28905ebd  ecad2386   7801e8d9  ...           1   \n",
       "3       f3845767      28905ebd  ecad2386   7801e8d9  ...           1   \n",
       "4       9166c161      0569f928  ecad2386   7801e8d9  ...           1   \n",
       "...          ...           ...       ...        ...  ...         ...   \n",
       "9995    7687a86e      3e814130  ecad2386   7801e8d9  ...           1   \n",
       "9996    f3845767      28905ebd  ecad2386   7801e8d9  ...           1   \n",
       "9997    17d996e6      f028772b  ecad2386   7801e8d9  ...           1   \n",
       "9998    c4e18dd6      50e219e0  5e3f096f   2347f47a  ...           1   \n",
       "9999    5c9ae867      f028772b  ecad2386   7801e8d9  ...           1   \n",
       "\n",
       "     device_conn_type    C14  C15  C16   C17  C18  C19     C20  C21  \n",
       "0                   2  15706  320   50  1722    0   35      -1   79  \n",
       "1                   0  15704  320   50  1722    0   35  100084   79  \n",
       "2                   0  15704  320   50  1722    0   35  100084   79  \n",
       "3                   0  15706  320   50  1722    0   35  100084   79  \n",
       "4                   0  18993  320   50  2161    0   35      -1  157  \n",
       "...               ...    ...  ...  ...   ...  ...  ...     ...  ...  \n",
       "9995                0  17654  300  250  1994    2   39  100083   33  \n",
       "9996                0  15701  320   50  1722    0   35      -1   79  \n",
       "9997                0  16920  320   50  1899    0  431      -1  117  \n",
       "9998                0  21611  320   50  2480    3  297  100111   61  \n",
       "9999                0  18945  320   50  2153    3  427  100063   61  \n",
       "\n",
       "[10000 rows x 24 columns]"
      ]
     },
     "execution_count": 29,
     "metadata": {},
     "output_type": "execute_result"
    }
   ],
   "source": [
    "df"
   ]
  },
  {
   "cell_type": "code",
   "execution_count": 30,
   "id": "4413b46f",
   "metadata": {},
   "outputs": [],
   "source": [
    "selected_columns = ['hour', 'C1', 'banner_pos', 'site_category', 'device_type', 'C14', 'C15', 'C16', 'C17', 'C18', 'C19', 'C20', 'C21']\n",
    "X = df[selected_columns]\n"
   ]
  },
  {
   "cell_type": "code",
   "execution_count": 31,
   "id": "e06a141d",
   "metadata": {},
   "outputs": [],
   "source": [
    "# Convert categorical columns to one-hot encoding\n",
    "X = pd.get_dummies(X, columns=['site_category'])"
   ]
  },
  {
   "cell_type": "code",
   "execution_count": 32,
   "id": "58df8fd0",
   "metadata": {},
   "outputs": [],
   "source": [
    "# Select the target variable\n",
    "y = df['click']"
   ]
  },
  {
   "cell_type": "code",
   "execution_count": 33,
   "id": "697f2b82",
   "metadata": {},
   "outputs": [],
   "source": [
    "# Split the data into training and testing sets\n",
    "X_train, X_test, y_train, y_test = train_test_split(X, y, test_size=0.2, random_state=42)"
   ]
  },
  {
   "cell_type": "code",
   "execution_count": 34,
   "id": "4bed2363",
   "metadata": {},
   "outputs": [],
   "source": [
    "# Create a logistic regression model\n",
    "model = LogisticRegression()"
   ]
  },
  {
   "cell_type": "code",
   "execution_count": 35,
   "id": "0ad6c20b",
   "metadata": {},
   "outputs": [
    {
     "data": {
      "text/plain": [
       "LogisticRegression()"
      ]
     },
     "execution_count": 35,
     "metadata": {},
     "output_type": "execute_result"
    }
   ],
   "source": [
    "# Train the model\n",
    "model.fit(X_train, y_train)"
   ]
  },
  {
   "cell_type": "code",
   "execution_count": 36,
   "id": "788859d8",
   "metadata": {},
   "outputs": [],
   "source": [
    "# Make predictions on the test set\n",
    "y_pred = model.predict(X_test)"
   ]
  },
  {
   "cell_type": "code",
   "execution_count": 37,
   "id": "52febb41",
   "metadata": {},
   "outputs": [],
   "source": [
    "# Make predictions on the test set\n",
    "y_pred = model.predict(X_test)"
   ]
  },
  {
   "cell_type": "code",
   "execution_count": 38,
   "id": "09647b54",
   "metadata": {},
   "outputs": [
    {
     "name": "stdout",
     "output_type": "stream",
     "text": [
      "Accuracy: 0.838\n"
     ]
    }
   ],
   "source": [
    "#Calculate the accuracy of the model\n",
    "accuracy = accuracy_score(y_test, y_pred)\n",
    "print(\"Accuracy:\", accuracy)"
   ]
  },
  {
   "cell_type": "markdown",
   "id": "76139fb9",
   "metadata": {},
   "source": [
    "## ADVANCED QUESTIONS :"
   ]
  },
  {
   "cell_type": "markdown",
   "id": "12465e7c",
   "metadata": {},
   "source": [
    "### Q-1. A Social Media Influencer collected data on Facebook friend requests and used a supervised algorithm to predict whether a user would accept a friend request or not. Dataset This is the Dataset You can use this dataset for this question. Note : Use only Dask and Use MLflow"
   ]
  },
  {
   "cell_type": "code",
   "execution_count": 2,
   "id": "00ed146d",
   "metadata": {},
   "outputs": [],
   "source": [
    "import pandas as pd"
   ]
  },
  {
   "cell_type": "code",
   "execution_count": 3,
   "id": "c639a276",
   "metadata": {},
   "outputs": [],
   "source": [
    "df=pd.read_csv(r\"C:\\Users\\user\\Downloads\\FacebookRecruiting\\train.csv\")"
   ]
  },
  {
   "cell_type": "code",
   "execution_count": 11,
   "id": "14117ffb",
   "metadata": {},
   "outputs": [
    {
     "name": "stdout",
     "output_type": "stream",
     "text": [
      "Collecting dask_xgboost\n",
      "  Downloading dask_xgboost-0.2.0-py2.py3-none-any.whl (14 kB)\n",
      "Collecting xgboost<=0.90 (from dask_xgboost)\n",
      "  Downloading xgboost-0.90-py2.py3-none-win_amd64.whl (18.3 MB)\n",
      "                                              0.0/18.3 MB ? eta -:--:--\n",
      "                                              0.1/18.3 MB 3.3 MB/s eta 0:00:06\n",
      "                                              0.3/18.3 MB 4.8 MB/s eta 0:00:04\n",
      "     -                                        0.6/18.3 MB 5.3 MB/s eta 0:00:04\n",
      "     -                                        0.9/18.3 MB 5.0 MB/s eta 0:00:04\n",
      "     --                                       1.1/18.3 MB 5.5 MB/s eta 0:00:04\n",
      "     ---                                      1.4/18.3 MB 5.5 MB/s eta 0:00:04\n",
      "     ---                                      1.5/18.3 MB 5.2 MB/s eta 0:00:04\n",
      "     ---                                      1.7/18.3 MB 5.2 MB/s eta 0:00:04\n",
      "     ----                                     1.9/18.3 MB 4.9 MB/s eta 0:00:04\n",
      "     ----                                     2.0/18.3 MB 4.8 MB/s eta 0:00:04\n",
      "     ----                                     2.2/18.3 MB 4.8 MB/s eta 0:00:04\n",
      "     -----                                    2.3/18.3 MB 4.6 MB/s eta 0:00:04\n",
      "     -----                                    2.5/18.3 MB 4.6 MB/s eta 0:00:04\n",
      "     -----                                    2.7/18.3 MB 4.6 MB/s eta 0:00:04\n",
      "     ------                                   2.8/18.3 MB 4.5 MB/s eta 0:00:04\n",
      "     ------                                   3.0/18.3 MB 4.5 MB/s eta 0:00:04\n",
      "     ------                                   3.2/18.3 MB 4.4 MB/s eta 0:00:04\n",
      "     -------                                  3.3/18.3 MB 4.4 MB/s eta 0:00:04\n",
      "     -------                                  3.5/18.3 MB 4.4 MB/s eta 0:00:04\n",
      "     -------                                  3.5/18.3 MB 4.4 MB/s eta 0:00:04\n",
      "     -------                                  3.6/18.3 MB 4.0 MB/s eta 0:00:04\n",
      "     --------                                 4.1/18.3 MB 4.3 MB/s eta 0:00:04\n",
      "     ---------                                4.3/18.3 MB 4.2 MB/s eta 0:00:04\n",
      "     ---------                                4.5/18.3 MB 4.2 MB/s eta 0:00:04\n",
      "     ----------                               4.7/18.3 MB 4.3 MB/s eta 0:00:04\n",
      "     ----------                               4.9/18.3 MB 4.3 MB/s eta 0:00:04\n",
      "     ----------                               5.0/18.3 MB 4.2 MB/s eta 0:00:04\n",
      "     -----------                              5.2/18.3 MB 4.2 MB/s eta 0:00:04\n",
      "     -----------                              5.4/18.3 MB 4.2 MB/s eta 0:00:04\n",
      "     ------------                             5.6/18.3 MB 4.2 MB/s eta 0:00:04\n",
      "     ------------                             5.7/18.3 MB 4.1 MB/s eta 0:00:04\n",
      "     ------------                             5.9/18.3 MB 4.1 MB/s eta 0:00:03\n",
      "     -------------                            6.1/18.3 MB 4.2 MB/s eta 0:00:03\n",
      "     -------------                            6.2/18.3 MB 4.1 MB/s eta 0:00:03\n",
      "     -------------                            6.4/18.3 MB 4.1 MB/s eta 0:00:03\n",
      "     --------------                           6.5/18.3 MB 4.1 MB/s eta 0:00:03\n",
      "     --------------                           6.7/18.3 MB 4.1 MB/s eta 0:00:03\n",
      "     ---------------                          6.9/18.3 MB 4.1 MB/s eta 0:00:03\n",
      "     ---------------                          7.1/18.3 MB 4.1 MB/s eta 0:00:03\n",
      "     ---------------                          7.3/18.3 MB 4.1 MB/s eta 0:00:03\n",
      "     ----------------                         7.4/18.3 MB 4.1 MB/s eta 0:00:03\n",
      "     ----------------                         7.6/18.3 MB 4.1 MB/s eta 0:00:03\n",
      "     ----------------                         7.8/18.3 MB 4.1 MB/s eta 0:00:03\n",
      "     -----------------                        7.9/18.3 MB 4.1 MB/s eta 0:00:03\n",
      "     -----------------                        8.2/18.3 MB 4.1 MB/s eta 0:00:03\n",
      "     ------------------                       8.3/18.3 MB 4.1 MB/s eta 0:00:03\n",
      "     ------------------                       8.5/18.3 MB 4.1 MB/s eta 0:00:03\n",
      "     ------------------                       8.7/18.3 MB 4.1 MB/s eta 0:00:03\n",
      "     -------------------                      8.9/18.3 MB 4.1 MB/s eta 0:00:03\n",
      "     -------------------                      9.1/18.3 MB 4.1 MB/s eta 0:00:03\n",
      "     --------------------                     9.3/18.3 MB 4.1 MB/s eta 0:00:03\n",
      "     --------------------                     9.5/18.3 MB 4.1 MB/s eta 0:00:03\n",
      "     --------------------                     9.6/18.3 MB 4.0 MB/s eta 0:00:03\n",
      "     ---------------------                    9.8/18.3 MB 4.0 MB/s eta 0:00:03\n",
      "     ---------------------                    10.0/18.3 MB 4.0 MB/s eta 0:00:03\n",
      "     ----------------------                   10.1/18.3 MB 4.0 MB/s eta 0:00:03\n",
      "     ----------------------                   10.3/18.3 MB 4.0 MB/s eta 0:00:02\n",
      "     ----------------------                   10.5/18.3 MB 4.0 MB/s eta 0:00:02\n",
      "     -----------------------                  10.7/18.3 MB 4.0 MB/s eta 0:00:02\n",
      "     -----------------------                  10.9/18.3 MB 4.0 MB/s eta 0:00:02\n",
      "     ------------------------                 11.0/18.3 MB 4.0 MB/s eta 0:00:02\n",
      "     ------------------------                 11.2/18.3 MB 3.9 MB/s eta 0:00:02\n",
      "     ------------------------                 11.4/18.3 MB 3.9 MB/s eta 0:00:02\n",
      "     -------------------------                11.6/18.3 MB 3.9 MB/s eta 0:00:02\n",
      "     -------------------------                11.8/18.3 MB 3.9 MB/s eta 0:00:02\n",
      "     --------------------------               12.0/18.3 MB 3.9 MB/s eta 0:00:02\n",
      "     --------------------------               12.2/18.3 MB 3.9 MB/s eta 0:00:02\n",
      "     --------------------------               12.3/18.3 MB 3.9 MB/s eta 0:00:02\n",
      "     ---------------------------              12.5/18.3 MB 3.9 MB/s eta 0:00:02\n",
      "     ---------------------------              12.7/18.3 MB 3.9 MB/s eta 0:00:02\n",
      "     ----------------------------             12.9/18.3 MB 3.9 MB/s eta 0:00:02\n",
      "     ----------------------------             13.0/18.3 MB 3.9 MB/s eta 0:00:02\n",
      "     ----------------------------             13.2/18.3 MB 3.9 MB/s eta 0:00:02\n",
      "     -----------------------------            13.4/18.3 MB 3.9 MB/s eta 0:00:02\n",
      "     -----------------------------            13.4/18.3 MB 3.9 MB/s eta 0:00:02\n",
      "     -----------------------------            13.5/18.3 MB 3.8 MB/s eta 0:00:02\n",
      "     ------------------------------           13.9/18.3 MB 4.0 MB/s eta 0:00:02\n",
      "     ------------------------------           14.1/18.3 MB 3.9 MB/s eta 0:00:02\n",
      "     -------------------------------          14.3/18.3 MB 3.9 MB/s eta 0:00:02\n",
      "     -------------------------------          14.5/18.3 MB 3.9 MB/s eta 0:00:01\n",
      "     -------------------------------          14.7/18.3 MB 3.9 MB/s eta 0:00:01\n",
      "     --------------------------------         14.8/18.3 MB 3.9 MB/s eta 0:00:01\n",
      "     --------------------------------         15.0/18.3 MB 3.9 MB/s eta 0:00:01\n",
      "     ---------------------------------        15.2/18.3 MB 3.9 MB/s eta 0:00:01\n",
      "     ---------------------------------        15.4/18.3 MB 3.9 MB/s eta 0:00:01\n",
      "     ---------------------------------        15.6/18.3 MB 3.9 MB/s eta 0:00:01\n",
      "     ----------------------------------       15.7/18.3 MB 3.9 MB/s eta 0:00:01\n",
      "     ----------------------------------       15.9/18.3 MB 3.9 MB/s eta 0:00:01\n",
      "     -----------------------------------      16.1/18.3 MB 3.9 MB/s eta 0:00:01\n",
      "     -----------------------------------      16.2/18.3 MB 3.9 MB/s eta 0:00:01\n",
      "     -----------------------------------      16.4/18.3 MB 3.9 MB/s eta 0:00:01\n",
      "     ------------------------------------     16.6/18.3 MB 3.9 MB/s eta 0:00:01\n",
      "     ------------------------------------     16.8/18.3 MB 3.9 MB/s eta 0:00:01\n",
      "     ------------------------------------     16.9/18.3 MB 3.9 MB/s eta 0:00:01\n",
      "     -------------------------------------    17.1/18.3 MB 3.9 MB/s eta 0:00:01\n",
      "     -------------------------------------    17.3/18.3 MB 3.9 MB/s eta 0:00:01\n",
      "     --------------------------------------   17.5/18.3 MB 3.9 MB/s eta 0:00:01\n",
      "     --------------------------------------   17.6/18.3 MB 3.9 MB/s eta 0:00:01\n",
      "     --------------------------------------   17.8/18.3 MB 3.9 MB/s eta 0:00:01\n",
      "     ---------------------------------------  18.0/18.3 MB 3.9 MB/s eta 0:00:01\n",
      "     ---------------------------------------  18.2/18.3 MB 3.9 MB/s eta 0:00:01\n",
      "     ---------------------------------------  18.3/18.3 MB 3.9 MB/s eta 0:00:01\n",
      "     ---------------------------------------  18.3/18.3 MB 3.9 MB/s eta 0:00:01\n",
      "     ---------------------------------------  18.3/18.3 MB 3.9 MB/s eta 0:00:01\n",
      "     ---------------------------------------  18.3/18.3 MB 3.9 MB/s eta 0:00:01\n",
      "     ---------------------------------------  18.3/18.3 MB 3.9 MB/s eta 0:00:01\n",
      "     ---------------------------------------  18.3/18.3 MB 3.9 MB/s eta 0:00:01\n",
      "     ---------------------------------------  18.3/18.3 MB 3.9 MB/s eta 0:00:01\n",
      "     ---------------------------------------  18.3/18.3 MB 3.9 MB/s eta 0:00:01\n",
      "     ---------------------------------------  18.3/18.3 MB 3.9 MB/s eta 0:00:01\n",
      "     ---------------------------------------  18.3/18.3 MB 3.9 MB/s eta 0:00:01\n",
      "     ---------------------------------------  18.3/18.3 MB 3.9 MB/s eta 0:00:01\n",
      "     ---------------------------------------- 18.3/18.3 MB 3.3 MB/s eta 0:00:00\n",
      "Requirement already satisfied: dask in c:\\users\\user\\anaconda3\\anaconda3\\lib\\site-packages (from dask_xgboost) (2022.7.0)\n",
      "Requirement already satisfied: distributed>=1.15.2 in c:\\users\\user\\anaconda3\\anaconda3\\lib\\site-packages (from dask_xgboost) (2022.7.0)\n",
      "Requirement already satisfied: click>=6.6 in c:\\users\\user\\anaconda3\\anaconda3\\lib\\site-packages (from distributed>=1.15.2->dask_xgboost) (8.0.4)\n",
      "Requirement already satisfied: cloudpickle>=1.5.0 in c:\\users\\user\\anaconda3\\anaconda3\\lib\\site-packages (from distributed>=1.15.2->dask_xgboost) (2.0.0)\n",
      "Requirement already satisfied: jinja2 in c:\\users\\user\\anaconda3\\anaconda3\\lib\\site-packages (from distributed>=1.15.2->dask_xgboost) (3.1.2)\n",
      "Requirement already satisfied: locket>=1.0.0 in c:\\users\\user\\anaconda3\\anaconda3\\lib\\site-packages (from distributed>=1.15.2->dask_xgboost) (1.0.0)\n",
      "Requirement already satisfied: msgpack>=0.6.0 in c:\\users\\user\\anaconda3\\anaconda3\\lib\\site-packages (from distributed>=1.15.2->dask_xgboost) (1.0.3)\n",
      "Requirement already satisfied: packaging>=20.0 in c:\\users\\user\\appdata\\roaming\\python\\python310\\site-packages (from distributed>=1.15.2->dask_xgboost) (23.0)\n",
      "Requirement already satisfied: psutil>=5.0 in c:\\users\\user\\appdata\\roaming\\python\\python310\\site-packages (from distributed>=1.15.2->dask_xgboost) (5.9.4)\n",
      "Requirement already satisfied: sortedcontainers!=2.0.0,!=2.0.1 in c:\\users\\user\\anaconda3\\anaconda3\\lib\\site-packages (from distributed>=1.15.2->dask_xgboost) (2.4.0)\n",
      "Requirement already satisfied: tblib>=1.6.0 in c:\\users\\user\\anaconda3\\anaconda3\\lib\\site-packages (from distributed>=1.15.2->dask_xgboost) (1.7.0)\n",
      "Requirement already satisfied: toolz>=0.8.2 in c:\\users\\user\\anaconda3\\anaconda3\\lib\\site-packages (from distributed>=1.15.2->dask_xgboost) (0.12.0)\n",
      "Requirement already satisfied: tornado<6.2,>=6.0.3 in c:\\users\\user\\anaconda3\\anaconda3\\lib\\site-packages (from distributed>=1.15.2->dask_xgboost) (6.1)\n",
      "Requirement already satisfied: urllib3 in c:\\users\\user\\anaconda3\\anaconda3\\lib\\site-packages (from distributed>=1.15.2->dask_xgboost) (1.26.14)\n",
      "Requirement already satisfied: zict>=0.1.3 in c:\\users\\user\\anaconda3\\anaconda3\\lib\\site-packages (from distributed>=1.15.2->dask_xgboost) (2.1.0)\n",
      "Requirement already satisfied: pyyaml in c:\\users\\user\\anaconda3\\anaconda3\\lib\\site-packages (from distributed>=1.15.2->dask_xgboost) (6.0)\n",
      "Requirement already satisfied: fsspec>=0.6.0 in c:\\users\\user\\anaconda3\\anaconda3\\lib\\site-packages (from dask->dask_xgboost) (2022.11.0)\n",
      "Requirement already satisfied: partd>=0.3.10 in c:\\users\\user\\anaconda3\\anaconda3\\lib\\site-packages (from dask->dask_xgboost) (1.2.0)\n",
      "Requirement already satisfied: numpy in c:\\users\\user\\anaconda3\\anaconda3\\lib\\site-packages (from xgboost<=0.90->dask_xgboost) (1.23.5)\n",
      "Requirement already satisfied: scipy in c:\\users\\user\\anaconda3\\anaconda3\\lib\\site-packages (from xgboost<=0.90->dask_xgboost) (1.10.0)\n",
      "Requirement already satisfied: colorama in c:\\users\\user\\anaconda3\\anaconda3\\lib\\site-packages (from click>=6.6->distributed>=1.15.2->dask_xgboost) (0.4.6)\n",
      "Requirement already satisfied: heapdict in c:\\users\\user\\anaconda3\\anaconda3\\lib\\site-packages (from zict>=0.1.3->distributed>=1.15.2->dask_xgboost) (1.0.1)\n",
      "Requirement already satisfied: MarkupSafe>=2.0 in c:\\users\\user\\anaconda3\\anaconda3\\lib\\site-packages (from jinja2->distributed>=1.15.2->dask_xgboost) (2.1.1)\n",
      "Installing collected packages: xgboost, dask_xgboost\n",
      "Successfully installed dask_xgboost-0.2.0 xgboost-0.90\n"
     ]
    },
    {
     "name": "stderr",
     "output_type": "stream",
     "text": [
      "Error processing line 1 of C:\\Users\\user\\anaconda3\\Anaconda3\\lib\\site-packages\\vision-1.0.0-py3.10-nspkg.pth:\n",
      "\n",
      "  Traceback (most recent call last):\n",
      "    File \"C:\\Users\\user\\anaconda3\\Anaconda3\\lib\\site.py\", line 186, in addpackage\n",
      "      exec(line)\n",
      "    File \"<string>\", line 1, in <module>\n",
      "    File \"<frozen importlib._bootstrap>\", line 568, in module_from_spec\n",
      "  AttributeError: 'NoneType' object has no attribute 'loader'\n",
      "\n",
      "Remainder of file ignored\n"
     ]
    }
   ],
   "source": [
    "!pip install dask_xgboost"
   ]
  },
  {
   "cell_type": "code",
   "execution_count": 21,
   "id": "77a6f166",
   "metadata": {},
   "outputs": [],
   "source": [
    "import dask.dataframe as dd\n",
    "import mlflow\n",
    "import dask_ml.model_selection as dcv\n",
    "from dask_ml.metrics import accuracy_score\n",
    "from dask_ml.xgboost import XGBClassifier\n",
    "from distributed import Client"
   ]
  },
  {
   "cell_type": "code",
   "execution_count": 23,
   "id": "da426d37",
   "metadata": {},
   "outputs": [],
   "source": [
    "X = df.drop(columns=['destination_node'])\n",
    "y = df['destination_node']"
   ]
  },
  {
   "cell_type": "code",
   "execution_count": 24,
   "id": "71ab659f",
   "metadata": {},
   "outputs": [],
   "source": [
    "# Split the data into training and testing sets\n",
    "X_train, X_test, y_train, y_test = dcv.train_test_split(X, y, test_size=0.2, random_state=42)"
   ]
  },
  {
   "cell_type": "code",
   "execution_count": null,
   "id": "2b0c90f1",
   "metadata": {},
   "outputs": [],
   "source": [
    "# Define and train the model\n",
    "model = XGBClassifier()\n",
    "model.fit(X_train, y_train)"
   ]
  },
  {
   "cell_type": "code",
   "execution_count": null,
   "id": "9d851e5c",
   "metadata": {},
   "outputs": [],
   "source": [
    "# Make predictions on the test set\n",
    "y_pred = model.predict(X_test)"
   ]
  },
  {
   "cell_type": "code",
   "execution_count": null,
   "id": "355a4fdb",
   "metadata": {},
   "outputs": [],
   "source": [
    "# Calculate the accuracy score\n",
    "accuracy = accuracy_score(y_test, y_pred)"
   ]
  },
  {
   "cell_type": "code",
   "execution_count": null,
   "id": "d765a9ad",
   "metadata": {},
   "outputs": [],
   "source": [
    "# Log the accuracy score using MLflow\n",
    "with mlflow.start_run():\n",
    "    mlflow.log_metric(\"accuracy\", accuracy)"
   ]
  },
  {
   "cell_type": "markdown",
   "id": "18124cfe",
   "metadata": {},
   "source": [
    "### Q-2. A chemist had two chemical flasks labeled 0 and 1 which consist of two different chemicals. He extracted 3 features from these chemicals in order to distinguish between them, you provided the results derived by the chemicals and your task is to create a model that will label chemical 0 or 1 given its three features and built-in docker and use some library to display that in frontend. Note : Use only pyspark"
   ]
  },
  {
   "cell_type": "code",
   "execution_count": 67,
   "id": "5c023047",
   "metadata": {},
   "outputs": [],
   "source": [
    "import pandas as pd"
   ]
  },
  {
   "cell_type": "code",
   "execution_count": 68,
   "id": "7f0ac358",
   "metadata": {},
   "outputs": [],
   "source": [
    "df=pd.read_csv(r\"C:\\Users\\user\\Downloads\\archive (7)\\indian_liver_patient.csv\")"
   ]
  },
  {
   "cell_type": "code",
   "execution_count": 69,
   "id": "56d94bc3",
   "metadata": {},
   "outputs": [
    {
     "data": {
      "text/html": [
       "<div>\n",
       "<style scoped>\n",
       "    .dataframe tbody tr th:only-of-type {\n",
       "        vertical-align: middle;\n",
       "    }\n",
       "\n",
       "    .dataframe tbody tr th {\n",
       "        vertical-align: top;\n",
       "    }\n",
       "\n",
       "    .dataframe thead th {\n",
       "        text-align: right;\n",
       "    }\n",
       "</style>\n",
       "<table border=\"1\" class=\"dataframe\">\n",
       "  <thead>\n",
       "    <tr style=\"text-align: right;\">\n",
       "      <th></th>\n",
       "      <th>Age</th>\n",
       "      <th>Gender</th>\n",
       "      <th>Total_Bilirubin</th>\n",
       "      <th>Direct_Bilirubin</th>\n",
       "      <th>Alkaline_Phosphotase</th>\n",
       "      <th>Alamine_Aminotransferase</th>\n",
       "      <th>Aspartate_Aminotransferase</th>\n",
       "      <th>Total_Protiens</th>\n",
       "      <th>Albumin</th>\n",
       "      <th>Albumin_and_Globulin_Ratio</th>\n",
       "      <th>Dataset</th>\n",
       "    </tr>\n",
       "  </thead>\n",
       "  <tbody>\n",
       "    <tr>\n",
       "      <th>0</th>\n",
       "      <td>65</td>\n",
       "      <td>Female</td>\n",
       "      <td>0.7</td>\n",
       "      <td>0.1</td>\n",
       "      <td>187</td>\n",
       "      <td>16</td>\n",
       "      <td>18</td>\n",
       "      <td>6.8</td>\n",
       "      <td>3.3</td>\n",
       "      <td>0.90</td>\n",
       "      <td>1</td>\n",
       "    </tr>\n",
       "    <tr>\n",
       "      <th>1</th>\n",
       "      <td>62</td>\n",
       "      <td>Male</td>\n",
       "      <td>10.9</td>\n",
       "      <td>5.5</td>\n",
       "      <td>699</td>\n",
       "      <td>64</td>\n",
       "      <td>100</td>\n",
       "      <td>7.5</td>\n",
       "      <td>3.2</td>\n",
       "      <td>0.74</td>\n",
       "      <td>1</td>\n",
       "    </tr>\n",
       "    <tr>\n",
       "      <th>2</th>\n",
       "      <td>62</td>\n",
       "      <td>Male</td>\n",
       "      <td>7.3</td>\n",
       "      <td>4.1</td>\n",
       "      <td>490</td>\n",
       "      <td>60</td>\n",
       "      <td>68</td>\n",
       "      <td>7.0</td>\n",
       "      <td>3.3</td>\n",
       "      <td>0.89</td>\n",
       "      <td>1</td>\n",
       "    </tr>\n",
       "    <tr>\n",
       "      <th>3</th>\n",
       "      <td>58</td>\n",
       "      <td>Male</td>\n",
       "      <td>1.0</td>\n",
       "      <td>0.4</td>\n",
       "      <td>182</td>\n",
       "      <td>14</td>\n",
       "      <td>20</td>\n",
       "      <td>6.8</td>\n",
       "      <td>3.4</td>\n",
       "      <td>1.00</td>\n",
       "      <td>1</td>\n",
       "    </tr>\n",
       "    <tr>\n",
       "      <th>4</th>\n",
       "      <td>72</td>\n",
       "      <td>Male</td>\n",
       "      <td>3.9</td>\n",
       "      <td>2.0</td>\n",
       "      <td>195</td>\n",
       "      <td>27</td>\n",
       "      <td>59</td>\n",
       "      <td>7.3</td>\n",
       "      <td>2.4</td>\n",
       "      <td>0.40</td>\n",
       "      <td>1</td>\n",
       "    </tr>\n",
       "    <tr>\n",
       "      <th>...</th>\n",
       "      <td>...</td>\n",
       "      <td>...</td>\n",
       "      <td>...</td>\n",
       "      <td>...</td>\n",
       "      <td>...</td>\n",
       "      <td>...</td>\n",
       "      <td>...</td>\n",
       "      <td>...</td>\n",
       "      <td>...</td>\n",
       "      <td>...</td>\n",
       "      <td>...</td>\n",
       "    </tr>\n",
       "    <tr>\n",
       "      <th>578</th>\n",
       "      <td>60</td>\n",
       "      <td>Male</td>\n",
       "      <td>0.5</td>\n",
       "      <td>0.1</td>\n",
       "      <td>500</td>\n",
       "      <td>20</td>\n",
       "      <td>34</td>\n",
       "      <td>5.9</td>\n",
       "      <td>1.6</td>\n",
       "      <td>0.37</td>\n",
       "      <td>2</td>\n",
       "    </tr>\n",
       "    <tr>\n",
       "      <th>579</th>\n",
       "      <td>40</td>\n",
       "      <td>Male</td>\n",
       "      <td>0.6</td>\n",
       "      <td>0.1</td>\n",
       "      <td>98</td>\n",
       "      <td>35</td>\n",
       "      <td>31</td>\n",
       "      <td>6.0</td>\n",
       "      <td>3.2</td>\n",
       "      <td>1.10</td>\n",
       "      <td>1</td>\n",
       "    </tr>\n",
       "    <tr>\n",
       "      <th>580</th>\n",
       "      <td>52</td>\n",
       "      <td>Male</td>\n",
       "      <td>0.8</td>\n",
       "      <td>0.2</td>\n",
       "      <td>245</td>\n",
       "      <td>48</td>\n",
       "      <td>49</td>\n",
       "      <td>6.4</td>\n",
       "      <td>3.2</td>\n",
       "      <td>1.00</td>\n",
       "      <td>1</td>\n",
       "    </tr>\n",
       "    <tr>\n",
       "      <th>581</th>\n",
       "      <td>31</td>\n",
       "      <td>Male</td>\n",
       "      <td>1.3</td>\n",
       "      <td>0.5</td>\n",
       "      <td>184</td>\n",
       "      <td>29</td>\n",
       "      <td>32</td>\n",
       "      <td>6.8</td>\n",
       "      <td>3.4</td>\n",
       "      <td>1.00</td>\n",
       "      <td>1</td>\n",
       "    </tr>\n",
       "    <tr>\n",
       "      <th>582</th>\n",
       "      <td>38</td>\n",
       "      <td>Male</td>\n",
       "      <td>1.0</td>\n",
       "      <td>0.3</td>\n",
       "      <td>216</td>\n",
       "      <td>21</td>\n",
       "      <td>24</td>\n",
       "      <td>7.3</td>\n",
       "      <td>4.4</td>\n",
       "      <td>1.50</td>\n",
       "      <td>2</td>\n",
       "    </tr>\n",
       "  </tbody>\n",
       "</table>\n",
       "<p>583 rows × 11 columns</p>\n",
       "</div>"
      ],
      "text/plain": [
       "     Age  Gender  Total_Bilirubin  Direct_Bilirubin  Alkaline_Phosphotase  \\\n",
       "0     65  Female              0.7               0.1                   187   \n",
       "1     62    Male             10.9               5.5                   699   \n",
       "2     62    Male              7.3               4.1                   490   \n",
       "3     58    Male              1.0               0.4                   182   \n",
       "4     72    Male              3.9               2.0                   195   \n",
       "..   ...     ...              ...               ...                   ...   \n",
       "578   60    Male              0.5               0.1                   500   \n",
       "579   40    Male              0.6               0.1                    98   \n",
       "580   52    Male              0.8               0.2                   245   \n",
       "581   31    Male              1.3               0.5                   184   \n",
       "582   38    Male              1.0               0.3                   216   \n",
       "\n",
       "     Alamine_Aminotransferase  Aspartate_Aminotransferase  Total_Protiens  \\\n",
       "0                          16                          18             6.8   \n",
       "1                          64                         100             7.5   \n",
       "2                          60                          68             7.0   \n",
       "3                          14                          20             6.8   \n",
       "4                          27                          59             7.3   \n",
       "..                        ...                         ...             ...   \n",
       "578                        20                          34             5.9   \n",
       "579                        35                          31             6.0   \n",
       "580                        48                          49             6.4   \n",
       "581                        29                          32             6.8   \n",
       "582                        21                          24             7.3   \n",
       "\n",
       "     Albumin  Albumin_and_Globulin_Ratio  Dataset  \n",
       "0        3.3                        0.90        1  \n",
       "1        3.2                        0.74        1  \n",
       "2        3.3                        0.89        1  \n",
       "3        3.4                        1.00        1  \n",
       "4        2.4                        0.40        1  \n",
       "..       ...                         ...      ...  \n",
       "578      1.6                        0.37        2  \n",
       "579      3.2                        1.10        1  \n",
       "580      3.2                        1.00        1  \n",
       "581      3.4                        1.00        1  \n",
       "582      4.4                        1.50        2  \n",
       "\n",
       "[583 rows x 11 columns]"
      ]
     },
     "execution_count": 69,
     "metadata": {},
     "output_type": "execute_result"
    }
   ],
   "source": [
    "df"
   ]
  },
  {
   "cell_type": "code",
   "execution_count": 70,
   "id": "f5ad20d0",
   "metadata": {},
   "outputs": [
    {
     "name": "stdout",
     "output_type": "stream",
     "text": [
      "Collecting pysparkNote: you may need to restart the kernel to use updated packages.\n",
      "\n",
      "  Using cached pyspark-3.4.0.tar.gz (310.8 MB)\n",
      "  Preparing metadata (setup.py): started\n",
      "  Preparing metadata (setup.py): finished with status 'done'\n",
      "Collecting py4j==0.10.9.7 (from pyspark)\n",
      "  Using cached py4j-0.10.9.7-py2.py3-none-any.whl (200 kB)\n",
      "Building wheels for collected packages: pyspark\n",
      "  Building wheel for pyspark (setup.py): started\n",
      "  Building wheel for pyspark (setup.py): still running...\n",
      "  Building wheel for pyspark (setup.py): finished with status 'done'\n",
      "  Created wheel for pyspark: filename=pyspark-3.4.0-py2.py3-none-any.whl size=311317167 sha256=9068389b3d65cdfb1e5d8e869a3572b8b36ad9c13ccdb57f36eabf120d6ebd84\n",
      "  Stored in directory: c:\\users\\user\\appdata\\local\\pip\\cache\\wheels\\7b\\1b\\4b\\3363a1d04368e7ff0d408e57ff57966fcdf00583774e761327\n",
      "Successfully built pyspark\n",
      "Installing collected packages: py4j, pyspark\n",
      "Successfully installed py4j-0.10.9.7 pyspark-3.4.0\n"
     ]
    }
   ],
   "source": [
    "pip install pyspark"
   ]
  },
  {
   "cell_type": "code",
   "execution_count": null,
   "id": "feecc34b",
   "metadata": {},
   "outputs": [],
   "source": [
    "from pyspark.sql import SparkSession\n",
    "\n",
    "spark = SparkSession.builder.appName(\"ChemicalClassification\").getOrCreate()"
   ]
  },
  {
   "cell_type": "code",
   "execution_count": null,
   "id": "ff2a49b7",
   "metadata": {},
   "outputs": [],
   "source": [
    "from pyspark.ml.feature import StringIndexer, OneHotEncoder, VectorAssembler\n",
    "\n",
    "# Encode the Gender column\n",
    "gender_indexer = StringIndexer(inputCol=\"Gender\", outputCol=\"GenderIndex\")\n",
    "df = gender_indexer.fit(df).transform(df)\n",
    "\n",
    "# One-hot encode the GenderIndex column\n",
    "gender_encoder = OneHotEncoder(inputCol=\"GenderIndex\", outputCol=\"GenderVec\")\n",
    "df = gender_encoder.transform(df)\n",
    "\n",
    "# Assemble the feature vector\n",
    "assembler = VectorAssembler(inputCols=[\"Age\", \"GenderVec\", \"Total_Bilirubin\", \"Direct_Bilirubin\",\n",
    "                                      \"Alkaline_Phosphotase\", \"Alamine_Aminotransferase\",\n",
    "                                      \"Aspartate_Aminotransferase\", \"Total_Protiens\", \"Albumin\",\n",
    "                                      \"Albumin_and_Globulin_Ratio\"], outputCol=\"features\")\n",
    "df = assembler.transform(df)\n"
   ]
  },
  {
   "cell_type": "code",
   "execution_count": null,
   "id": "81297beb",
   "metadata": {},
   "outputs": [],
   "source": [
    "from pyspark.ml.classification import LogisticRegression\n",
    "\n",
    "# Split the data into training and testing sets\n",
    "train_data, test_data = df.randomSplit([0.8, 0.2], seed=42)\n",
    "\n",
    "# Create a Logistic Regression model\n",
    "lr = LogisticRegression(labelCol=\"Dataset\", featuresCol=\"features\")\n",
    "\n",
    "# Train the model\n",
    "model = lr.fit(train_data)"
   ]
  },
  {
   "cell_type": "code",
   "execution_count": null,
   "id": "95deeab2",
   "metadata": {},
   "outputs": [],
   "source": [
    "# Make predictions on the test set\n",
    "y_pred = model.predict(test_data"
   ]
  },
  {
   "cell_type": "code",
   "execution_count": null,
   "id": "169f7ef8",
   "metadata": {},
   "outputs": [],
   "source": [
    "# Calculate the accuracy score\n",
    "accuracy = accuracy_score(y_test, y_pred)"
   ]
  },
  {
   "attachments": {},
   "cell_type": "markdown",
   "id": "21f6dcf5",
   "metadata": {},
   "source": [
    "### Q- 3. A company wants to predict the sales of its product based on the money spent on different platforms for marketing. They want you to figure out how they can spend money on marketing in the future in such a way that they can increase their profit as much as possible built-in docker and use some library to display that in frontend Dataset This is the Dataset You can use this dataset for this question. Note: Use only Dask"
   ]
  },
  {
   "cell_type": "code",
   "execution_count": 28,
   "id": "20628903",
   "metadata": {
    "scrolled": true
   },
   "outputs": [
    {
     "name": "stderr",
     "output_type": "stream",
     "text": [
      "C:\\Users\\user\\anaconda3\\Anaconda3\\lib\\site-packages\\dask_ml\\model_selection\\_split.py:462: FutureWarning: The default value for 'shuffle' must be specified when splitting DataFrames. In the future DataFrames will automatically be shuffled within blocks prior to splitting. Specify 'shuffle=True' to adopt the future behavior now, or 'shuffle=False' to retain the previous behavior.\n",
      "  warnings.warn(\n"
     ]
    },
    {
     "data": {
      "text/plain": [
       "Text(0, 0.5, 'Predicted Sales')"
      ]
     },
     "execution_count": 28,
     "metadata": {},
     "output_type": "execute_result"
    },
    {
     "data": {
      "image/png": "[encoded data removed]",
      "text/plain": [
       "<Figure size 640x480 with 1 Axes>"
      ]
     },
     "metadata": {},
     "output_type": "display_data"
    }
   ],
   "source": [
    "import dask.dataframe as dd\n",
    "import dask_ml.linear_model as lm\n",
    "from dask_ml.model_selection import train_test_split\n",
    "from dask_ml.metrics import r2_score\n",
    "import matplotlib.pyplot as plt\n",
    "\n",
    "# Read the CSV file in chunks using Dask\n",
    "df = dd.read_csv(r'C:\\Users\\user\\Downloads\\archive (7)\\advertising.csv')\n",
    "\n",
    "# Filter rows with non-null values in the specified columns\n",
    "df = df[df['TV'].notnull() & df['Radio'].notnull() & df['Newspaper'].notnull()]\n",
    "\n",
    "# Split the dataset into features (X) and target variable (y)\n",
    "X = df[['TV', 'Radio', 'Newspaper']]\n",
    "y = df['Sales']\n",
    "\n",
    "# Split the data into training and testing sets\n",
    "X_train, X_test, y_train, y_test = train_test_split(X, y, test_size=0.2, random_state=42)\n",
    "\n",
    "# Convert Dask dataframes to Dask arrays\n",
    "X_train_array = X_train.to_dask_array(lengths=True)\n",
    "X_test_array = X_test.to_dask_array(lengths=True)\n",
    "y_train_array = y_train.to_dask_array(lengths=True)\n",
    "y_test_array = y_test.to_dask_array(lengths=True)\n",
    "\n",
    "# Train the linear regression model\n",
    "model = lm.LinearRegression()\n",
    "model.fit(X_train_array, y_train_array)\n",
    "\n",
    "# Make predictions on the test set\n",
    "y_pred = model.predict(X_test_array)\n",
    "\n",
    "# Calculate the R-squared score\n",
    "r2 = r2_score(y_test_array, y_pred)\n",
    "\n",
    "# Visualize the predicted vs. actual sales\n",
    "plt.scatter(y_test_array.compute(), y_pred.compute())\n",
    "plt.xlabel('Actual Sales')\n",
    "plt.ylabel('Predicted Sales')\n"
   ]
  }
 ],
 "metadata": {
  "kernelspec": {
   "display_name": "Python 3 (ipykernel)",
   "language": "python",
   "name": "python3"
  },
  "language_info": {
   "codemirror_mode": {
    "name": "ipython",
    "version": 3
   },
   "file_extension": ".py",
   "mimetype": "text/x-python",
   "name": "python",
   "nbconvert_exporter": "python",
   "pygments_lexer": "ipython3",
   "version": "3.10.9"
  }
 },
 "nbformat": 4,
 "nbformat_minor": 5
}
